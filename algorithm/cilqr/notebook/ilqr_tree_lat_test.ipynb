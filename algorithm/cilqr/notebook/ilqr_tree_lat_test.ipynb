{
 "cells": [
  {
   "cell_type": "code",
   "execution_count": 1,
   "id": "db4275b4",
   "metadata": {},
   "outputs": [
    {
     "data": {
      "text/html": [
       "<style> div.output_scroll { height: auto !important; max-height: none !important; } </style>"
      ],
      "text/plain": [
       "<IPython.core.display.HTML object>"
      ]
     },
     "metadata": {},
     "output_type": "display_data"
    }
   ],
   "source": [
    "import sys\n",
    "import numpy as np\n",
    "import os\n",
    "current_directory = os.getcwd()\n",
    "relative_path1 = '../../build/env_simulator'\n",
    "relative_path2 = '../../build/cilqr'\n",
    "file_path1 = os.path.join(current_directory, relative_path1)\n",
    "file_path2 = os.path.join(current_directory, relative_path2)\n",
    "sys.path.append(file_path1)\n",
    "sys.path.append(file_path2)\n",
    "import pybind_env_simulator\n",
    "\n",
    "relative_path3 = '../../env_simulator'\n",
    "file_path3 = os.path.join(current_directory, relative_path3)\n",
    "sys.path.append(file_path3)\n",
    "relative_path4 = '../'\n",
    "file_path4 = os.path.join(current_directory, relative_path4)\n",
    "sys.path.append(file_path4)\n",
    "from py_lib import py_env_sim\n",
    "from py_lib import cilqr_plot\n",
    "import pybind_ilqr\n",
    "from bokeh.plotting import figure, show\n",
    "from bokeh.io import output_notebook\n",
    "from bokeh.models import WheelZoomTool\n",
    "import json\n",
    "from IPython.display import display, HTML\n",
    "display(HTML(\"<style> div.output_scroll { height: auto !important; max-height: none !important; } </style>\"))"
   ]
  },
  {
   "cell_type": "code",
   "execution_count": 2,
   "id": "9ea20508",
   "metadata": {},
   "outputs": [
    {
     "name": "stdout",
     "output_type": "stream",
     "text": [
      "L_x: 2*L*w*(-L*sin(alpha - theta) + x0)*cos(alpha - theta)\n",
      "L_x_x: 2*L**2*w*cos(alpha - theta)**2 + 2*L*w*(-L*sin(alpha - theta) + x0)*sin(alpha - theta)\n"
     ]
    }
   ],
   "source": [
    "from sympy import symbols, diff, sin, cos, exp\n",
    "w = symbols('w')\n",
    "x0 = symbols('x0')\n",
    "theta = symbols('theta')\n",
    "alpha = symbols('alpha')\n",
    "L = symbols('L')\n",
    "\n",
    "L = w * (x0 + sin(theta -alpha) * L)*(x0 + sin(theta -alpha) * L)\n",
    "L_x = diff(L, theta)\n",
    "L_x_x = diff(L_x, theta)\n",
    "print(\"L_x:\",L_x)\n",
    "print(\"L_x_x:\",L_x_x)"
   ]
  },
  {
   "cell_type": "markdown",
   "id": "dc6ebba1",
   "metadata": {},
   "source": [
    "## 横向直线不居中 1 P0"
   ]
  },
  {
   "cell_type": "code",
   "execution_count": 3,
   "id": "9a0e31b3",
   "metadata": {},
   "outputs": [],
   "source": [
    "def show_motion_tree_case(motion): \n",
    "    traj_trees = motion.get_trajectory_tree()\n",
    "\n",
    "    print(\"trajectory tree branch size is: \", len(traj_trees))\n",
    "    env = motion.get_env()\n",
    "    planning_origin = motion.get_planning_origin()\n",
    "\n",
    "    pts = env.get_all_center_points()\n",
    "    obs = env.get_all_obstacle()\n",
    "    planning_init = {}\n",
    "\n",
    "    planning_init['x'] = planning_origin.position.x\n",
    "    planning_init['y'] = planning_origin.position.y\n",
    "    planning_init['theta'] = planning_origin.theta\n",
    "\n",
    "    trajs = motion.get_init_trajectory()\n",
    "    traj_list = []\n",
    "    for traj in trajs:\n",
    "        pt = {}\n",
    "        pt['x'] = traj.position.x\n",
    "        pt['y'] = traj.position.y\n",
    "        pt['theta'] = traj.theta\n",
    "        traj_list.append(pt)\n",
    "    \n",
    "    lon_debug = motion.get_lon_debug_tree()\n",
    "    lat_debug = motion.get_lat_debug_tree()\n",
    "    traj_list_list = []\n",
    "    j = 0\n",
    "    for traj_tree in traj_trees:  \n",
    "        traj_new_list = []\n",
    "        index = 0\n",
    "        for traj in traj_tree:\n",
    "            pt = {}\n",
    "            pt['x'] = traj.position.x\n",
    "            pt['y'] = traj.position.y\n",
    "            pt['theta'] = traj.theta\n",
    "            pt['v'] = traj.velocity\n",
    "            pt['omega'] = traj.omega\n",
    "            pt['ref_omega'] = lat_debug[j][index].ref_omega\n",
    "            pt['acc'] = traj.acceleration\n",
    "            pt['lat_dis'] = lat_debug[j][index].lat_dis\n",
    "            pt['acc_lat'] = traj.velocity * traj.omega\n",
    "            pt['acc_lat_ref'] = lat_debug[j][index].ref_lat_acc\n",
    "            pt['ref_vel'] = lon_debug[j][index].v_ref\n",
    "            pt['ref_acc'] = lon_debug[j][index].a_ref\n",
    "            pt['match_point'] = lat_debug[j][index].match_point\n",
    "            pt['jerk'] = traj.jerk\n",
    "            pt['omega_dot'] = traj.omega_dot\n",
    "            index = index + 1\n",
    "            traj_new_list.append(pt)\n",
    "        traj_list_list.append(traj_new_list)\n",
    "        j = j+1\n",
    "    cilqr_plot.plot_tree_cilqr_constraint(pts,obs,planning_init,traj_list, traj_list_list,[],True)\n",
    "    \n",
    "def show_motion_tree_case_page(motion): \n",
    "    traj_trees = motion.get_trajectory_tree()\n",
    "\n",
    "    print(\"trajectory tree branch size is: \", len(traj_trees))\n",
    "    env = motion.get_env()\n",
    "    planning_origin = motion.get_planning_origin()\n",
    "\n",
    "    pts = env.get_all_center_points()\n",
    "    obs = env.get_all_obstacle()\n",
    "    planning_init = {}\n",
    "\n",
    "    planning_init['x'] = planning_origin.position.x\n",
    "    planning_init['y'] = planning_origin.position.y\n",
    "    planning_init['theta'] = planning_origin.theta\n",
    "\n",
    "    trajs = motion.get_init_trajectory()\n",
    "    traj_list = []\n",
    "    for traj in trajs:\n",
    "        pt = {}\n",
    "        pt['x'] = traj.position.x\n",
    "        pt['y'] = traj.position.y\n",
    "        pt['theta'] = traj.theta\n",
    "        traj_list.append(pt)\n",
    "    \n",
    "    lon_debug = motion.get_lon_debug_tree()\n",
    "    lat_debug = motion.get_lat_debug_tree()\n",
    "    traj_list_list = []\n",
    "    j = 0\n",
    "    for traj_tree in traj_trees:  \n",
    "        traj_new_list = []\n",
    "        index = 0\n",
    "        for traj in traj_tree:\n",
    "            pt = {}\n",
    "            pt['x'] = traj.position.x\n",
    "            pt['y'] = traj.position.y\n",
    "            pt['theta'] = traj.theta\n",
    "            pt['v'] = traj.velocity\n",
    "            pt['omega'] = traj.omega\n",
    "            pt['ref_omega'] = lat_debug[j][index].ref_omega\n",
    "            pt['acc'] = traj.acceleration\n",
    "            pt['lat_dis'] = lat_debug[j][index].lat_dis\n",
    "            pt['acc_lat'] = traj.velocity * traj.omega\n",
    "            pt['acc_lat_ref'] = lat_debug[j][index].ref_lat_acc\n",
    "            pt['ref_vel'] = lon_debug[j][index].v_ref\n",
    "            pt['ref_acc'] = lon_debug[j][index].a_ref\n",
    "            pt['match_point'] = lat_debug[j][index].match_point\n",
    "            pt['jerk'] = traj.jerk\n",
    "            pt['omega_dot'] = traj.omega_dot\n",
    "            index = index + 1\n",
    "            traj_new_list.append(pt)\n",
    "        traj_list_list.append(traj_new_list)\n",
    "        j = j+1\n",
    "    cilqr_plot.plot_tree_cilqr_constraint(pts,obs,planning_init,traj_list, traj_list_list,[],False)"
   ]
  },
  {
   "cell_type": "code",
   "execution_count": 4,
   "id": "d1d7fba1",
   "metadata": {},
   "outputs": [
    {
     "name": "stdout",
     "output_type": "stream",
     "text": [
      "---- loading test_case_1_straight_case_1 case ----\n",
      "trajectory tree branch size is:  1\n",
      "---- loading relative -1 lane \n",
      "---- loading relative 0 lane \n",
      "---- loading relative 1 lane \n",
      "---- loading obstacle 100\n",
      "Field 'road_edges' does not exist.\n",
      " r_4 is :  \n",
      "1.13033 \n",
      "j_opt: 288.983332 \n",
      "--- stage 0 --- succeed! next state ---  \n",
      "--- stage 1 --- succeed! next state ---  \n",
      "---iter times: 4 \n",
      "---succeed! stop search--- \n",
      " **************** ilqr tree time: 47.6523 ms \n",
      " tree trajectory finish\n"
     ]
    }
   ],
   "source": [
    "motion = pybind_ilqr.LateralLongitudinalMotion()\n",
    "point_init = pybind_ilqr.PlanningPoint()\n",
    "point_init.position.x = 10.0\n",
    "point_init.position.y = 4.0\n",
    "point_init.theta = 0.00\n",
    "point_init.velocity = 15.0\n",
    "point_init.acceleration  = 0.6\n",
    "\n",
    "path = str(current_directory)+str(\"/../../env_simulator/data/test_case_1_straight_lanes_cruise.json\")\n",
    "motion.init(path,point_init)\n",
    "\n",
    "motion.execute_tree()\n",
    "\n",
    "show_motion_tree_case(motion)"
   ]
  },
  {
   "cell_type": "markdown",
   "id": "d9d2e793",
   "metadata": {},
   "source": [
    "## 弯道 1 P0"
   ]
  },
  {
   "cell_type": "code",
   "execution_count": 5,
   "id": "dc938c17",
   "metadata": {},
   "outputs": [
    {
     "name": "stdout",
     "output_type": "stream",
     "text": [
      "trajectory tree branch size is:  1\n",
      "---- loading straight_case_1 case ----\n",
      "---- loading relative -1 lane \n",
      "---- loading relative 0 lane \n",
      "---- loading relative 1 lane \n",
      "Field 'road_edges' does not exist.\n",
      " r_4 is :  \n",
      "1.13033 \n",
      "j_opt: 2219.814575 \n",
      "--- stage 0 --- succeed! next state ---  \n",
      "--- stage 1 --- succeed! next state ---  \n",
      "---iter times: 4 \n",
      "---succeed! stop search--- \n",
      " **************** ilqr tree time: 54.3055 ms \n",
      " tree trajectory finish\n"
     ]
    }
   ],
   "source": [
    "point_init.position.x = 10.0\n",
    "point_init.position.y = 5.25\n",
    "point_init.position.y = 2.25\n",
    "point_init.theta = 0.1\n",
    "point_init.velocity = 22.22\n",
    "point_init.acceleration  = 0.5\n",
    "\n",
    "path = str(current_directory)+str(\"/../../env_simulator/data/curva_lanes_case_1.json\")\n",
    "motion.init(path,point_init)\n",
    "\n",
    "motion.execute_tree()\n",
    "\n",
    "show_motion_tree_case(motion)"
   ]
  },
  {
   "cell_type": "markdown",
   "id": "18da6d2a",
   "metadata": {},
   "source": [
    "## 弯道 2  P1"
   ]
  },
  {
   "cell_type": "code",
   "execution_count": 6,
   "id": "fb7b7082",
   "metadata": {},
   "outputs": [
    {
     "name": "stdout",
     "output_type": "stream",
     "text": [
      "---- loading straight_case_1 case ----\n",
      "trajectory tree branch size is:  1\n",
      "---- loading relative 0 lane \n",
      "Field 'road_edges' does not exist.\n",
      " r_4 is :  \n",
      "1.13033 \n",
      "j_opt: 7.779707 \n",
      "--- stage 0 --- succeed! next state ---  \n",
      "--- stage 1 --- succeed! next state ---  \n",
      "---iter times: 16 \n",
      "---succeed! stop search--- \n",
      " **************** ilqr tree time: 235.898 ms \n",
      " tree trajectory finish\n"
     ]
    }
   ],
   "source": [
    "point_init.position.x = 10.0\n",
    "point_init.position.y = 5.25\n",
    "point_init.theta = 0.1\n",
    "point_init.velocity = 10.22\n",
    "point_init.acceleration  = 0.5\n",
    "\n",
    "path = str(current_directory)+str(\"/../../env_simulator/data/curva_lanes_case_3.json\")\n",
    "motion.init(path,point_init)\n",
    "\n",
    "motion.execute_tree()\n",
    "\n",
    "show_motion_tree_case(motion)"
   ]
  },
  {
   "cell_type": "code",
   "execution_count": 7,
   "id": "995f3a1e",
   "metadata": {},
   "outputs": [
    {
     "name": "stdout",
     "output_type": "stream",
     "text": [
      "---- loading straight_case_1 case ----\n",
      "trajectory tree branch size is:  1\n",
      "---- loading relative 0 lane \n",
      "Field 'road_edges' does not exist.\n",
      " r_4 is :  \n",
      "1.13033 \n",
      "j_opt: 7.779707 \n",
      "--- stage 0 --- succeed! next state ---  \n",
      "--- stage 1 --- succeed! next state ---  \n",
      "---iter times: 7 \n",
      "---succeed! stop search--- \n",
      " **************** ilqr tree time: 94.1981 ms \n",
      " tree trajectory finish\n"
     ]
    }
   ],
   "source": [
    "point_init.position.x = 10.0\n",
    "point_init.position.y = 1.25\n",
    "point_init.theta = 0.1\n",
    "point_init.velocity = 10.22\n",
    "point_init.acceleration  = 0.5\n",
    "\n",
    "path = str(current_directory)+str(\"/../../env_simulator/data/curva_lanes_case_3.json\")\n",
    "motion.init(path,point_init)\n",
    "\n",
    "motion.execute_tree()\n",
    "\n",
    "show_motion_tree_case(motion)"
   ]
  },
  {
   "cell_type": "markdown",
   "id": "b8c2ffb0",
   "metadata": {},
   "source": [
    "## 弯道 3  P0 近似快速变道"
   ]
  },
  {
   "cell_type": "code",
   "execution_count": 8,
   "id": "7ecc0f28",
   "metadata": {},
   "outputs": [
    {
     "name": "stdout",
     "output_type": "stream",
     "text": [
      "trajectory tree branch size is: ---- loading straight_case_1 case ----\n",
      " 1\n",
      "---- loading relative 0 lane \n",
      "Field 'road_edges' does not exist.\n",
      " r_4 is :  \n",
      "1.13033 \n",
      "j_opt: 200.871685 \n",
      "--- stage 0 --- succeed! next state ---  \n",
      "--- stage 1 --- succeed! next state ---  \n",
      "---iter times: 31 \n",
      "---succeed! stop search--- \n",
      " **************** ilqr tree time: 427.081 ms \n",
      " tree trajectory finish\n"
     ]
    }
   ],
   "source": [
    "point_init.position.x = 30\n",
    "point_init.position.y = 5.8\n",
    "point_init.theta = -0.1\n",
    "point_init.velocity = 14.22\n",
    "point_init.acceleration  = 0.1\n",
    "\n",
    "path = str(current_directory)+str(\"/../../env_simulator/data/curva_lanes_case_3.json\")\n",
    "motion.init(path,point_init)\n",
    "\n",
    "motion.execute_tree()\n",
    "\n",
    "show_motion_tree_case(motion)"
   ]
  },
  {
   "cell_type": "markdown",
   "id": "0bf36300",
   "metadata": {},
   "source": [
    "## 弯道 3.1  P0 近似无加速变道"
   ]
  },
  {
   "cell_type": "code",
   "execution_count": 9,
   "id": "9317235f",
   "metadata": {},
   "outputs": [
    {
     "name": "stdout",
     "output_type": "stream",
     "text": [
      "---- loading straight_case_1 case ----\n",
      "trajectory tree branch size is:  1\n",
      "---- loading relative 0 lane \n",
      "Field 'road_edges' does not exist.\n",
      " r_4 is :  \n",
      "1.13033 \n",
      "j_opt: 554.166647 \n",
      "--- stage 0 --- succeed! next state ---  \n",
      "--- stage 1 --- succeed! next state ---  \n",
      "---iter times: 36 \n",
      "---succeed! stop search--- \n",
      " **************** ilqr tree time: 447.44 ms \n",
      " tree trajectory finish\n"
     ]
    }
   ],
   "source": [
    "point_init.position.x = 30\n",
    "point_init.position.y = 5.8\n",
    "point_init.theta = 0.0\n",
    "point_init.velocity = 14.22\n",
    "point_init.acceleration  = 0.0\n",
    "\n",
    "path = str(current_directory)+str(\"/../../env_simulator/data/curva_lanes_case_3.json\")\n",
    "motion.init(path,point_init)\n",
    "\n",
    "motion.execute_tree()\n",
    "\n",
    "show_motion_tree_case(motion)"
   ]
  },
  {
   "cell_type": "markdown",
   "id": "e6fa7c93",
   "metadata": {},
   "source": [
    "## 弯道 4  P0 弯道通行"
   ]
  },
  {
   "cell_type": "code",
   "execution_count": 10,
   "id": "b8625752",
   "metadata": {},
   "outputs": [
    {
     "name": "stdout",
     "output_type": "stream",
     "text": [
      "---- loading straight_case_1 case ----\n",
      "trajectory tree branch size is:  1\n",
      "---- loading relative 0 lane \n",
      "Field 'road_edges' does not exist.\n",
      " r_4 is :  \n",
      "1.13033 \n",
      "j_opt: 4478.047118 \n",
      "--- stage 0 --- succeed! next state ---  \n",
      "--- stage 1 --- succeed! next state ---  \n",
      "---iter times: 42 \n",
      "---succeed! stop search--- \n",
      " **************** ilqr tree time: 506.952 ms \n",
      " tree trajectory finish\n"
     ]
    }
   ],
   "source": [
    "point_init.position.x = 40.0\n",
    "point_init.position.y = 3.0\n",
    "point_init.theta = 0.2\n",
    "point_init.velocity = 16.22\n",
    "point_init.acceleration  = 0.5\n",
    "\n",
    "path = str(current_directory)+str(\"/../../env_simulator/data/curva_lanes_case_3.json\")\n",
    "motion.init(path,point_init)\n",
    "\n",
    "motion.execute_tree()\n",
    "\n",
    "show_motion_tree_case(motion)"
   ]
  },
  {
   "cell_type": "markdown",
   "id": "f084cd1a",
   "metadata": {},
   "source": [
    "## 弯道 4.1  P0 弯道通行"
   ]
  },
  {
   "cell_type": "code",
   "execution_count": 11,
   "id": "a58a917a",
   "metadata": {},
   "outputs": [
    {
     "name": "stdout",
     "output_type": "stream",
     "text": [
      "---- loading straight_case_1 case ----\n",
      "trajectory tree branch size is:  1\n",
      "---- loading relative 0 lane \n",
      "Field 'road_edges' does not exist.\n",
      " r_4 is :  \n",
      "1.13033 \n",
      "j_opt: 4478.047118 \n",
      "--- stage 0 --- succeed! next state ---  \n",
      "--- stage 1 --- succeed! next state ---  \n",
      "---iter times: 46 \n",
      "---succeed! stop search--- \n",
      " **************** ilqr tree time: 512.238 ms \n",
      " tree trajectory finish\n"
     ]
    }
   ],
   "source": [
    "point_init.position.x = 40.0\n",
    "point_init.position.y = 3.0\n",
    "point_init.theta = 0.15\n",
    "point_init.velocity = 16.22\n",
    "point_init.acceleration  = 0.5\n",
    "\n",
    "path = str(current_directory)+str(\"/../../env_simulator/data/curva_lanes_case_3.json\")\n",
    "motion.init(path,point_init)\n",
    "\n",
    "motion.execute_tree()\n",
    "\n",
    "show_motion_tree_case(motion)"
   ]
  },
  {
   "cell_type": "markdown",
   "id": "de8a3891",
   "metadata": {},
   "source": [
    "## 弯道 5  P1 特殊场景"
   ]
  },
  {
   "cell_type": "code",
   "execution_count": 12,
   "id": "ba0a056e",
   "metadata": {},
   "outputs": [
    {
     "name": "stdout",
     "output_type": "stream",
     "text": [
      "---- loading straight_case_1 case ----\n",
      "trajectory tree branch size is:  1\n",
      "---- loading relative 0 lane \n",
      "Field 'road_edges' does not exist.\n",
      " r_4 is :  \n",
      "1.13033 \n",
      "j_opt: 40.548726 \n",
      "--- stage 0 --- succeed! next state ---  \n",
      "--- stage 1 --- succeed! next state ---  \n",
      "---iter times: 40 \n",
      "---succeed! stop search--- \n",
      " **************** ilqr tree time: 499.547 ms \n",
      " tree trajectory finish\n"
     ]
    }
   ],
   "source": [
    "point_init.position.x = 10.0\n",
    "point_init.position.y = 6.0\n",
    "point_init.theta = 0.2\n",
    "point_init.velocity = 5.67\n",
    "point_init.acceleration  = 0.5\n",
    "\n",
    "path = str(current_directory)+str(\"/../../env_simulator/data/curva_lanes_case_2.json\")\n",
    "motion.init(path,point_init)\n",
    "\n",
    "motion.execute_tree()\n",
    "\n",
    "show_motion_tree_case(motion)"
   ]
  },
  {
   "cell_type": "markdown",
   "id": "712e5869",
   "metadata": {},
   "source": [
    "## 弯道 6  P1 特殊场景"
   ]
  },
  {
   "cell_type": "code",
   "execution_count": 13,
   "id": "8e491cd6",
   "metadata": {},
   "outputs": [
    {
     "name": "stdout",
     "output_type": "stream",
     "text": [
      "---- loading straight_case_1 case ----\n",
      "trajectory tree branch size is:  1\n",
      "---- loading relative 0 lane \n",
      "Field 'road_edges' does not exist.\n",
      " r_4 is :  \n",
      "1.13033 \n",
      "j_opt: 40.548726 \n",
      "--- stage 0 --- succeed! next state ---  \n",
      "--- stage 1 --- succeed! next state ---  \n",
      "---iter times: 40 \n",
      "---succeed! stop search--- \n",
      " **************** ilqr tree time: 547.095 ms \n",
      " tree trajectory finish\n"
     ]
    }
   ],
   "source": [
    "point_init.position.x = 10.0\n",
    "point_init.position.y = 6.0\n",
    "point_init.theta = 0.2\n",
    "point_init.velocity = 5.67\n",
    "point_init.acceleration  = 0.5\n",
    "\n",
    "path = str(current_directory)+str(\"/../../env_simulator/data/curva_lanes_case_2.json\")\n",
    "motion.init(path,point_init)\n",
    "\n",
    "motion.execute_tree()\n",
    "\n",
    "show_motion_tree_case(motion)"
   ]
  },
  {
   "cell_type": "markdown",
   "id": "163d7f8c",
   "metadata": {},
   "source": [
    "## 路测 corner case 1"
   ]
  },
  {
   "cell_type": "code",
   "execution_count": 14,
   "id": "6c95b26b",
   "metadata": {},
   "outputs": [
    {
     "name": "stdout",
     "output_type": "stream",
     "text": [
      "---- loading test_case_2_straight_case_2 case ----\n",
      "trajectory tree branch size is:  1\n",
      "---- loading relative -1 lane \n",
      "---- loading relative 0 lane \n",
      "---- loading relative 1 lane \n",
      "---- loading obstacle 100\n",
      "Field 'road_edges' does not exist.\n",
      " r_4 is :  \n",
      "1.13033 \n",
      "j_opt: 51640.617944 \n",
      "--- stage 0 --- succeed! next state ---  \n",
      "--- stage 1 --- succeed! next state ---  \n",
      "---iter times: 7 \n",
      "---succeed! stop search--- \n",
      " **************** ilqr tree time: 101.888 ms \n",
      " tree trajectory finish\n"
     ]
    }
   ],
   "source": [
    "point_init.position.x = 10.0\n",
    "point_init.position.y = 3.0\n",
    "point_init.theta = 0.00\n",
    "point_init.velocity = 12\n",
    "point_init.acceleration  = -2.0\n",
    "\n",
    "path = str(current_directory)+str(\"/../../env_simulator/data/test_case_6_straight_lanes_cruise.json\")\n",
    "motion.init(path,point_init)\n",
    "\n",
    "motion.execute_tree()\n",
    "\n",
    "show_motion_tree_case(motion)"
   ]
  },
  {
   "cell_type": "code",
   "execution_count": null,
   "id": "c94200fd",
   "metadata": {},
   "outputs": [],
   "source": []
  }
 ],
 "metadata": {
  "kernelspec": {
   "display_name": "Python 3.10",
   "language": "python",
   "name": "myenv"
  },
  "language_info": {
   "codemirror_mode": {
    "name": "ipython",
    "version": 3
   },
   "file_extension": ".py",
   "mimetype": "text/x-python",
   "name": "python",
   "nbconvert_exporter": "python",
   "pygments_lexer": "ipython3",
   "version": "3.10.11"
  }
 },
 "nbformat": 4,
 "nbformat_minor": 5
}
