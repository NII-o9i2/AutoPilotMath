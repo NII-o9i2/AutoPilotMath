{
 "cells": [
  {
   "cell_type": "code",
   "execution_count": null,
   "id": "c28a26f0",
   "metadata": {},
   "outputs": [],
   "source": [
    "import sys\n",
    "import numpy as np\n",
    "sys.path.append('/home/sensetime/ws/gitlab.senseauto.com/common_math/algorithm/build/env_simulator')\n",
    "sys.path.append('/home/sensetime/ws/gitlab.senseauto.com/common_math/algorithm/build/cilqr')\n",
    "sys.path.append('/home/sensetime/ws/gitlab.senseauto.com/common_math/algorithm/env_simulator')\n",
    "from bokeh.plotting import figure, show\n",
    "from bokeh.io import output_notebook\n",
    "import pybind_ilqr\n",
    "import pybind_env_simulator\n",
    "from py_lib import py_env_sim\n",
    "from py_lib import cilqr_plot\n",
    "from bokeh.models import ColumnDataSource\n",
    "from bokeh.models import WheelZoomTool\n",
    "from bokeh.models import HoverTool"
   ]
  },
  {
   "cell_type": "markdown",
   "id": "2bb2c648",
   "metadata": {},
   "source": [
    "## 直道（一开始不居中）"
   ]
  },
  {
   "cell_type": "code",
   "execution_count": null,
   "id": "5947a0f8",
   "metadata": {
    "scrolled": false
   },
   "outputs": [],
   "source": [
    "point_init = None\n",
    "point_init = pybind_ilqr.PlanningPoint()\n",
    "point_init.position.x = 10.0\n",
    "point_init.position.y = 5.0\n",
    "point_init.theta = 0.08\n",
    "point_init.velocity = 22.22\n",
    "point_init.acceleration  = 0.5\n",
    "path = str(\"/home/sensetime/ws/gitlab.senseauto.com/common_math/algorithm/env_simulator/data/straight_lanes_case_1.json\")\n",
    "cilqr_plot.run_cilqr_case(path, point_init)"
   ]
  },
  {
   "cell_type": "markdown",
   "id": "c39071c1",
   "metadata": {},
   "source": [
    "## 小曲率弯（一开始不居中）"
   ]
  },
  {
   "cell_type": "code",
   "execution_count": null,
   "id": "a9cc5e32",
   "metadata": {},
   "outputs": [],
   "source": [
    "point_init = None\n",
    "point_init = pybind_ilqr.PlanningPoint()\n",
    "point_init.position.x = 10.0\n",
    "point_init.position.y = 5.25\n",
    "point_init.theta = 0.1\n",
    "point_init.velocity = 22.22\n",
    "point_init.acceleration  = 0.5\n",
    "path = str(\"/home/sensetime/ws/gitlab.senseauto.com/common_math/algorithm/env_simulator/data/curva_lanes_case_1.json\")\n",
    "cilqr_plot.run_cilqr_case(path, point_init)"
   ]
  },
  {
   "cell_type": "markdown",
   "id": "2f3baa80",
   "metadata": {},
   "source": [
    "## 大曲率弯（一开始不居中）"
   ]
  },
  {
   "cell_type": "code",
   "execution_count": null,
   "id": "ecd3ad1e",
   "metadata": {},
   "outputs": [],
   "source": [
    "point_init = None\n",
    "point_init = pybind_ilqr.PlanningPoint()\n",
    "point_init.position.x = 30.0\n",
    "point_init.position.y = 5.0\n",
    "# point_init.position.y = 3.85\n",
    "point_init.theta = 0.05\n",
    "point_init.velocity = 16.67\n",
    "point_init.acceleration  = 0.5\n",
    "path = str(\"/home/sensetime/ws/gitlab.senseauto.com/common_math/algorithm/env_simulator/data/curva_lanes_case_3.json\")\n",
    "cilqr_plot.run_cilqr_case(path, point_init)"
   ]
  },
  {
   "cell_type": "markdown",
   "id": "b1a7ab39",
   "metadata": {},
   "source": [
    "## 扭曲弯"
   ]
  },
  {
   "cell_type": "code",
   "execution_count": null,
   "id": "d5c4b25d",
   "metadata": {},
   "outputs": [],
   "source": [
    "point_init = None\n",
    "point_init = pybind_ilqr.PlanningPoint()\n",
    "point_init.position.x = 10.0\n",
    "point_init.position.y = 6.0\n",
    "point_init.theta = 0.2\n",
    "point_init.velocity = 16.67\n",
    "point_init.acceleration  = 0.5\n",
    "path = str(\"/home/sensetime/ws/gitlab.senseauto.com/common_math/algorithm/env_simulator/data/curva_lanes_case_2.json\")\n",
    "cilqr_plot.run_cilqr_case(path, point_init)"
   ]
  },
  {
   "cell_type": "markdown",
   "id": "4a817c99",
   "metadata": {},
   "source": [
    "## Log Model 导数计算"
   ]
  },
  {
   "cell_type": "code",
   "execution_count": null,
   "id": "030068f7",
   "metadata": {},
   "outputs": [],
   "source": [
    "from sympy import symbols, diff, sin, cos, exp, log\n",
    "\n",
    "x = symbols('x')\n",
    "y = symbols('y')\n",
    "v = symbols('v')\n",
    "theta = symbols('theta')\n",
    "x0 = symbols('x0')\n",
    "y0 = symbols('y0')\n",
    "a = symbols('a')\n",
    "b = symbols('b')\n",
    "alpha = symbols('alpha')\n",
    "r = symbols('r')\n",
    "l_4 = symbols('l_4')\n",
    "q1 = symbols('q1')\n",
    "q2 = symbols('q2')\n",
    "q3 = symbols('q3')\n",
    "exp_g = q1 * exp(q2 *(1 - ((x + r*l_4*cos(theta) - x0) * cos(alpha) + (y + r*l_4*sin(theta) - y0)* sin(alpha)) ** 2 / (a * a) - ((x + r*l_4*cos(theta) - x0) * sin(alpha) + (y + r*l_4*sin(theta) - y0)* cos(alpha)) ** 2 / (b * b)) + q3)\n",
    "l_x_0 = diff(exp_g, x)\n",
    "print(l_x_0)  # 输出导数\n",
    "t = symbols('t')\n",
    "log_g = -1 / t * log(-(1 \n",
    "                       - ((x + r*l_4*cos(theta) - x0) * cos(alpha) \n",
    "                          + (y + r*l_4*sin(theta) - y0)* sin(alpha)) ** 2 / (a * a)\n",
    "                       - ((x + r*l_4*cos(theta) - x0) * sin(alpha) \n",
    "                          + (y + r*l_4*sin(theta) - y0)* cos(alpha)) ** 2 / (b * b)))\n",
    "print(\"log_g: \", log_g)"
   ]
  },
  {
   "cell_type": "code",
   "execution_count": null,
   "id": "d4c5313a",
   "metadata": {},
   "outputs": [],
   "source": [
    "log_g_dot_x = diff(log_g, x)\n",
    "print(\"log_g_dot_x: \", log_g_dot_x)  # 输出导数\n",
    "print()\n",
    "\n",
    "log_g_dot_y = diff(log_g, y)\n",
    "print(\"log_g_dot_y: \", log_g_dot_y) \n",
    "print()\n",
    "\n",
    "log_g_dot_v = diff(log_g, v)\n",
    "print(\"log_g_dot_v: \", log_g_dot_v)  # 输出导数\n",
    "print()\n",
    "\n",
    "log_g_dot_theta = diff(log_g, theta)\n",
    "print(\"log_g_dot_theta: \", log_g_dot_theta)  # 输出导数\n",
    "print()\n",
    "\n",
    "log_g_dot_x_x = diff(log_g_dot_x, x)\n",
    "print(\"log_g_dot_x_x: \", log_g_dot_x_x)\n",
    "print()\n",
    "\n",
    "log_g_dot_x_y = diff(log_g_dot_x, y)\n",
    "print(\"log_g_dot_x_y: \",log_g_dot_x_y)\n",
    "print()\n",
    "\n",
    "log_g_dot_x_theta = diff(log_g_dot_x, theta)\n",
    "print(\"log_g_dot_x_theta: \",log_g_dot_x_theta)\n",
    "print()\n",
    "\n",
    "log_g_dot_y_x = diff(log_g_dot_y, x)\n",
    "print(\"log_g_dot_y_x: \",log_g_dot_y_x)\n",
    "print()\n",
    "\n",
    "log_g_dot_y_y = diff(log_g_dot_y, y)\n",
    "print(\"log_g_dot_y_y: \",log_g_dot_y_y)\n",
    "print()\n",
    "\n",
    "log_g_dot_y_theta = diff(log_g_dot_y, theta)\n",
    "print(\"log_g_dot_y_theta: \",log_g_dot_y_theta)\n",
    "print()\n",
    "\n",
    "log_g_dot_theta_x = diff(log_g_dot_theta, x)\n",
    "print(\"log_g_dot_theta_x: \",log_g_dot_theta_x)\n",
    "print()\n",
    "\n",
    "log_g_dot_theta_y = diff(log_g_dot_theta, y)\n",
    "print(\"log_g_dot_theta_y: \",log_g_dot_theta_y)\n",
    "print()\n",
    "\n",
    "log_g_dot_theta_theta = diff(log_g_dot_theta, theta)\n",
    "print(\"log_g_dot_theta_theta: \",log_g_dot_theta_theta)\n",
    "print()"
   ]
  },
  {
   "cell_type": "code",
   "execution_count": null,
   "id": "f2b76f24",
   "metadata": {},
   "outputs": [],
   "source": [
    "\n",
    "log_test_data2 = {\n",
    "    x: 73.6815922943501391,\n",
    "    y: 4.5289236664936654,\n",
    "    theta: -0.0462468182103148,\n",
    "    x0: 60.0470499304768808,\n",
    "    y0: -0.0176410201280661,\n",
    "    a: 5.4803345743628302,\n",
    "    b: 2.3803345743628301,\n",
    "    alpha: 0.0095350137974141,\n",
    "    r: 1.0000000000000000,\n",
    "    l_4: 0.6125000000000000,\n",
    "    t: 2.0000000000000000\n",
    "}\n",
    "data2_log_g = log_g.subs(log_test_data2)\n",
    "data2_cplus_log_g = -1.1319492561139202\n",
    "print(\"data2_log_g diff :\",data2_log_g -data2_cplus_log_g)\n",
    "\n",
    "data2_log_g_dot_x = log_g_dot_x.subs(log_test_data2)\n",
    "data2_cplus_log_g_dot_x = -0.0502637816780145\n",
    "print(\"data2_log_g_dot_x diff :\",data2_log_g_dot_x -data2_cplus_log_g_dot_x)\n",
    "\n",
    "data2_log_g_dot_y = log_g_dot_y.subs(log_test_data2)\n",
    "data2_cplus_log_g_dot_y = -0.0858445802123225\n",
    "print(\"data2_log_g_dot_y diff :\",data2_log_g_dot_y -data2_cplus_log_g_dot_y)\n",
    "\n",
    "data2_log_g_dot_theta = log_g_dot_theta.subs(log_test_data2)\n",
    "data2_cplus_log_g_dot_theta = -0.0539468606585917\n",
    "print(\"data2_log_g_dot_theta diff :\",data2_log_g_dot_theta -data2_cplus_log_g_dot_theta)\n",
    "\n",
    "data2_log_g_dot_x_x = log_g_dot_x_x.subs(log_test_data2)\n",
    "data2_cplus_log_g_dot_x_x = 0.0015906568667799\n",
    "print(\"data2_log_g_dot_x_x diff :\",data2_log_g_dot_x_x -data2_cplus_log_g_dot_x_x)\n",
    "\n",
    "data2_log_g_dot_x_y = log_g_dot_x_y.subs(log_test_data2)\n",
    "data2_cplus_log_g_dot_x_y = 0.0084218365814414\n",
    "print(\"data2_log_g_dot_x_y diff :\",data2_log_g_dot_x_y -data2_cplus_log_g_dot_x_y)\n",
    "\n",
    "data2_log_g_dot_x_theta = log_g_dot_x_theta.subs(log_test_data2)\n",
    "data2_cplus_log_g_dot_x_theta = 0.0051979007723070\n",
    "print(\"data2_log_g_dot_x_theta diff :\",data2_log_g_dot_x_theta -data2_cplus_log_g_dot_x_theta)\n",
    "\n",
    "data2_log_g_dot_y_x = log_g_dot_y_x.subs(log_test_data2)\n",
    "data2_cplus_log_g_dot_y_x = 0.0084218365814414\n",
    "print(\"data2_log_g_dot_y_x diff :\",data2_log_g_dot_y_x -data2_cplus_log_g_dot_y_x)\n",
    "\n",
    "data2_log_g_dot_y_y = log_g_dot_y_y.subs(log_test_data2)\n",
    "data2_cplus_log_g_dot_y_y = -0.0036053857423133\n",
    "print(\"data2_log_g_dot_y_y diff :\",data2_log_g_dot_y_y -data2_cplus_log_g_dot_y_y)\n",
    "\n",
    "data2_log_g_dot_y_theta = log_g_dot_y_theta.subs(log_test_data2)\n",
    "data2_cplus_log_g_dot_y_theta = -0.0019674642696732\n",
    "print(\"data2_log_g_dot_y_theta diff :\",data2_log_g_dot_y_theta -data2_cplus_log_g_dot_y_theta)\n",
    "\n",
    "data2_log_g_dot_theta_x = log_g_dot_theta_x.subs(log_test_data2)\n",
    "data2_cplus_log_g_dot_theta_x = 0.0051979007723070\n",
    "print(\"data2_log_g_dot_theta_x diff :\",data2_log_g_dot_theta_x -data2_cplus_log_g_dot_theta_x)\n",
    "\n",
    "data2_log_g_dot_theta_y = log_g_dot_theta_y.subs(log_test_data2)\n",
    "data2_cplus_log_g_dot_theta_y = -0.0019674642696732\n",
    "print(\"data2_log_g_dot_theta_y diff :\",data2_log_g_dot_theta_y -data2_cplus_log_g_dot_theta_y)\n",
    "\n",
    "data2_log_g_dot_theta_theta = log_g_dot_theta_theta.subs(log_test_data2)\n",
    "data2_cplus_log_g_dot_theta_theta = 0.0272662682401783\n",
    "print(\"data2_log_g_dot_theta_theta diff :\",data2_log_g_dot_theta_theta -data2_cplus_log_g_dot_theta_theta)"
   ]
  },
  {
   "cell_type": "code",
   "execution_count": null,
   "id": "e9c86262",
   "metadata": {},
   "outputs": [],
   "source": []
  }
 ],
 "metadata": {
  "kernelspec": {
   "display_name": "Python 3 (ipykernel)",
   "language": "python",
   "name": "python3"
  },
  "language_info": {
   "codemirror_mode": {
    "name": "ipython",
    "version": 3
   },
   "file_extension": ".py",
   "mimetype": "text/x-python",
   "name": "python",
   "nbconvert_exporter": "python",
   "pygments_lexer": "ipython3",
   "version": "3.10.11"
  }
 },
 "nbformat": 4,
 "nbformat_minor": 5
}
