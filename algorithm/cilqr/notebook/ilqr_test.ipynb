{
 "cells": [
  {
   "cell_type": "code",
   "execution_count": 1,
   "id": "66b88301",
   "metadata": {},
   "outputs": [],
   "source": [
    "import sys\n",
    "import numpy as np\n",
    "import os\n",
    "current_directory = os.getcwd()\n",
    "relative_path1 = '../build/env_simulator'\n",
    "relative_path2 = '../build/cilqr'\n",
    "file_path1 = os.path.join(current_directory, relative_path1)\n",
    "file_path2 = os.path.join(current_directory, relative_path2)\n",
    "sys.path.append(file_path1)\n",
    "sys.path.append(file_path2)\n",
    "import pybind_env_simulator\n",
    "\n",
    "relative_path3 = '../env_simulator'\n",
    "file_path3 = os.path.join(current_directory, relative_path3)\n",
    "sys.path.append(file_path3)\n",
    "from py_lib import py_env_sim\n",
    "from py_lib import cilqr_plot\n",
    "import pybind_ilqr\n",
    "from bokeh.plotting import figure, show\n",
    "from bokeh.io import output_notebook"
   ]
  },
  {
   "cell_type": "code",
   "execution_count": 2,
   "id": "1429157a",
   "metadata": {},
   "outputs": [],
   "source": [
    "def get_use_exp_list(l_conditions):\n",
    "    use_exp_list = []\n",
    "    for condition in l_conditions:\n",
    "        use_exp = False\n",
    "#         print(condition.use_exp_model_map)\n",
    "        for item in condition.use_exp_model_map:\n",
    "            if condition.use_exp_model_map[item] == True:\n",
    "                use_exp = True\n",
    "                break\n",
    "        use_exp_list.append(use_exp)\n",
    "    return use_exp_list"
   ]
  },
  {
   "cell_type": "code",
   "execution_count": 3,
   "id": "6d4f4589",
   "metadata": {},
   "outputs": [],
   "source": [
    "def show_motion_case(motion): \n",
    "    motion.execute()\n",
    "\n",
    "    # plot \n",
    "    env = motion.get_env()\n",
    "    planning_origin = motion.get_planning_origin()\n",
    "\n",
    "    pts = env.get_all_center_points()\n",
    "    obs = env.get_all_obstacle()\n",
    "    planning_init = {}\n",
    "\n",
    "    planning_init['x'] = planning_origin.position.x\n",
    "    planning_init['y'] = planning_origin.position.y\n",
    "    planning_init['theta'] = planning_origin.theta\n",
    "\n",
    "    trajs = motion.get_init_trajectory()\n",
    "    traj_list = []\n",
    "    for traj in trajs:\n",
    "        pt = {}\n",
    "        pt['x'] = traj.position.x\n",
    "        pt['y'] = traj.position.y\n",
    "        pt['theta'] = traj.theta\n",
    "        traj_list.append(pt)\n",
    "\n",
    "    trajs_new = motion.get_new_trajectory()\n",
    "    v_ref = motion.get_ref_v()\n",
    "    a_ref = motion.get_ref_a()\n",
    "    traj_new_list = []\n",
    "    index = 0\n",
    "    for traj in trajs_new:\n",
    "        pt = {}\n",
    "        pt['x'] = traj.position.x\n",
    "        pt['y'] = traj.position.y\n",
    "        pt['theta'] = traj.theta\n",
    "        pt['v'] = traj.velocity\n",
    "        pt['acc'] = traj.acceleration\n",
    "        pt['ref_vel'] = v_ref[index]\n",
    "        pt['ref_acc'] = a_ref[index]\n",
    "        index = index + 1\n",
    "        traj_new_list.append(pt)\n",
    "\n",
    "    match_points = trajs = motion.get_match_point()\n",
    "    l_conditions = motion.get_l_condition()\n",
    "    # py_env_sim.plot_env(pts,obs)\n",
    "    use_exp_list = get_use_exp_list(l_conditions)\n",
    "    cilqr_plot.plot_cilqr_constraint(pts,obs,planning_init,traj_list, traj_new_list,use_exp_list)\n",
    "#     cilqr_plot.plot_cilqr_env(pts,obs,planning_init, traj_list,traj_new_list,match_points)"
   ]
  },
  {
   "cell_type": "code",
   "execution_count": null,
   "id": "c74ca256",
   "metadata": {},
   "outputs": [],
   "source": [
    "motion = pybind_ilqr.LateralLongitudinalMotion()\n",
    "point_init = pybind_ilqr.PlanningPoint()\n",
    "point_init.position.x = 10.0\n",
    "point_init.position.y = 4.0\n",
    "point_init.theta = 0.05\n",
    "point_init.velocity = 25.0\n",
    "point_init.acceleration  = 0.5\n",
    "\n",
    "path = str(current_directory)+str(\"/../env_simulator/data/test_case_1_straight_lanes_cruise.json\")\n",
    "motion.init(path,point_init)\n",
    "\n",
    "show_motion_case(motion)\n"
   ]
  },
  {
   "cell_type": "code",
   "execution_count": null,
   "id": "a0552d6a",
   "metadata": {},
   "outputs": [],
   "source": []
  },
  {
   "cell_type": "code",
   "execution_count": null,
   "id": "1e3bc6a8",
   "metadata": {},
   "outputs": [],
   "source": []
  }
 ],
 "metadata": {
  "kernelspec": {
   "display_name": "Python 3.10",
   "language": "python",
   "name": "myenv"
  },
  "language_info": {
   "codemirror_mode": {
    "name": "ipython",
    "version": 3
   },
   "file_extension": ".py",
   "mimetype": "text/x-python",
   "name": "python",
   "nbconvert_exporter": "python",
   "pygments_lexer": "ipython3",
   "version": "3.10.11"
  }
 },
 "nbformat": 4,
 "nbformat_minor": 5
}
