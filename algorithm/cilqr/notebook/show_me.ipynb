{
 "cells": [
  {
   "cell_type": "markdown",
   "id": "cab095e1",
   "metadata": {},
   "source": [
    "## AutoPilot Math Show Page"
   ]
  },
  {
   "cell_type": "code",
   "execution_count": null,
   "id": "54a83a0a",
   "metadata": {},
   "outputs": [],
   "source": []
  }
 ],
 "metadata": {
  "kernelspec": {
   "display_name": "Python 3.10",
   "language": "python",
   "name": "myenv"
  },
  "language_info": {
   "codemirror_mode": {
    "name": "ipython",
    "version": 3
   },
   "file_extension": ".py",
   "mimetype": "text/x-python",
   "name": "python",
   "nbconvert_exporter": "python",
   "pygments_lexer": "ipython3",
   "version": "3.10.11"
  }
 },
 "nbformat": 4,
 "nbformat_minor": 5
}
