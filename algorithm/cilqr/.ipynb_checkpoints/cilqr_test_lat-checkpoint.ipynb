{
 "cells": [
  {
   "cell_type": "code",
   "execution_count": 1,
   "id": "c28a26f0",
   "metadata": {},
   "outputs": [
    {
     "ename": "ModuleNotFoundError",
     "evalue": "No module named 'pybind_ilqr'",
     "output_type": "error",
     "traceback": [
      "\u001b[0;31m---------------------------------------------------------------------------\u001b[0m",
      "\u001b[0;31mModuleNotFoundError\u001b[0m                       Traceback (most recent call last)",
      "Cell \u001b[0;32mIn[1], line 8\u001b[0m\n\u001b[1;32m      6\u001b[0m \u001b[38;5;28;01mfrom\u001b[39;00m \u001b[38;5;21;01mbokeh\u001b[39;00m\u001b[38;5;21;01m.\u001b[39;00m\u001b[38;5;21;01mplotting\u001b[39;00m \u001b[38;5;28;01mimport\u001b[39;00m figure, show\n\u001b[1;32m      7\u001b[0m \u001b[38;5;28;01mfrom\u001b[39;00m \u001b[38;5;21;01mbokeh\u001b[39;00m\u001b[38;5;21;01m.\u001b[39;00m\u001b[38;5;21;01mio\u001b[39;00m \u001b[38;5;28;01mimport\u001b[39;00m output_notebook\n\u001b[0;32m----> 8\u001b[0m \u001b[38;5;28;01mimport\u001b[39;00m \u001b[38;5;21;01mpybind_ilqr\u001b[39;00m\n\u001b[1;32m      9\u001b[0m \u001b[38;5;28;01mimport\u001b[39;00m \u001b[38;5;21;01mpybind_env_simulator\u001b[39;00m\n\u001b[1;32m     10\u001b[0m \u001b[38;5;28;01mfrom\u001b[39;00m \u001b[38;5;21;01mpy_lib\u001b[39;00m \u001b[38;5;28;01mimport\u001b[39;00m py_env_sim\n",
      "\u001b[0;31mModuleNotFoundError\u001b[0m: No module named 'pybind_ilqr'"
     ]
    }
   ],
   "source": [
    "import sys\n",
    "import numpy as np\n",
    "sys.path.append('/home/sensetime/ws/gitlab.senseauto.com/common_math/algorithm/build/env_simulator')\n",
    "sys.path.append('/home/sensetime/ws/gitlab.senseauto.com/common_math/algorithm/build/cilqr')\n",
    "sys.path.append('/home/sensetime/ws/gitlab.senseauto.com/common_math/algorithm/env_simulator')\n",
    "from bokeh.plotting import figure, show\n",
    "from bokeh.io import output_notebook\n",
    "import pybind_ilqr\n",
    "import pybind_env_simulator\n",
    "from py_lib import py_env_sim\n",
    "from py_lib import cilqr_plot\n",
    "from bokeh.models import ColumnDataSource\n",
    "from bokeh.models import WheelZoomTool\n",
    "from bokeh.models import HoverTool"
   ]
  },
  {
   "cell_type": "markdown",
   "id": "2bb2c648",
   "metadata": {},
   "source": [
    "## 直道（一开始不居中）"
   ]
  },
  {
   "cell_type": "code",
   "execution_count": null,
   "id": "5947a0f8",
   "metadata": {
    "scrolled": false
   },
   "outputs": [],
   "source": [
    "point_init = None\n",
    "point_init = pybind_ilqr.PlanningPoint()\n",
    "point_init.position.x = 10.0\n",
    "point_init.position.y = 5.0\n",
    "point_init.theta = 0.1\n",
    "point_init.velocity = 22.22\n",
    "point_init.acceleration  = 0.5\n",
    "path = str(\"/home/sensetime/ws/gitlab.senseauto.com/common_math/algorithm/env_simulator/data/straight_lanes_case_1.json\")\n",
    "cilqr_plot.run_cilqr_case(path, point_init)"
   ]
  },
  {
   "cell_type": "markdown",
   "id": "c39071c1",
   "metadata": {},
   "source": [
    "## 小曲率弯（一开始不居中）"
   ]
  },
  {
   "cell_type": "code",
   "execution_count": null,
   "id": "a9cc5e32",
   "metadata": {},
   "outputs": [],
   "source": [
    "# point_init = None\n",
    "# point_init = pybind_ilqr.PlanningPoint()\n",
    "# point_init.position.x = 10.0\n",
    "# point_init.position.y = 5.25\n",
    "# point_init.theta = 0.1\n",
    "# point_init.velocity = 22.22\n",
    "# point_init.acceleration  = 0.5\n",
    "# path = str(\"/home/sensetime/ws/gitlab.senseauto.com/common_math/algorithm/env_simulator/data/curva_lanes_case_1.json\")\n",
    "# cilqr_plot.run_cilqr_case(path, point_init)"
   ]
  },
  {
   "cell_type": "markdown",
   "id": "2f3baa80",
   "metadata": {},
   "source": [
    "## 大曲率弯（一开始不居中）"
   ]
  },
  {
   "cell_type": "code",
   "execution_count": null,
   "id": "ecd3ad1e",
   "metadata": {},
   "outputs": [],
   "source": [
    "# point_init = None\n",
    "# point_init = pybind_ilqr.PlanningPoint()\n",
    "# point_init.position.x = 30.0\n",
    "# point_init.position.y = 5.0\n",
    "# point_init.theta = 0.05\n",
    "# point_init.velocity = 16.67\n",
    "# point_init.acceleration  = 0.5\n",
    "# path = str(\"/home/sensetime/ws/gitlab.senseauto.com/common_math/algorithm/env_simulator/data/curva_lanes_case_3.json\")\n",
    "# cilqr_plot.run_cilqr_case(path, point_init)"
   ]
  },
  {
   "cell_type": "markdown",
   "id": "b1a7ab39",
   "metadata": {},
   "source": [
    "## 扭曲弯"
   ]
  },
  {
   "cell_type": "code",
   "execution_count": null,
   "id": "d5c4b25d",
   "metadata": {},
   "outputs": [],
   "source": [
    "# point_init = None\n",
    "# point_init = pybind_ilqr.PlanningPoint()\n",
    "# point_init.position.x = 10.0\n",
    "# point_init.position.y = 6.0\n",
    "# point_init.theta = 0.2\n",
    "# point_init.velocity = 16.67\n",
    "# point_init.acceleration  = 0.5\n",
    "# path = str(\"/home/sensetime/ws/gitlab.senseauto.com/common_math/algorithm/env_simulator/data/curva_lanes_case_2.json\")\n",
    "# cilqr_plot.run_cilqr_case(path, point_init)"
   ]
  },
  {
   "cell_type": "code",
   "execution_count": null,
   "id": "1e02c00d",
   "metadata": {},
   "outputs": [],
   "source": []
  }
 ],
 "metadata": {
  "kernelspec": {
   "display_name": "Python 3 (ipykernel)",
   "language": "python",
   "name": "python3"
  },
  "language_info": {
   "codemirror_mode": {
    "name": "ipython",
    "version": 3
   },
   "file_extension": ".py",
   "mimetype": "text/x-python",
   "name": "python",
   "nbconvert_exporter": "python",
   "pygments_lexer": "ipython3",
   "version": "3.10.11"
  }
 },
 "nbformat": 4,
 "nbformat_minor": 5
}
