{
 "cells": [
  {
   "cell_type": "code",
   "execution_count": 1,
   "id": "425e4ba8-3312-41bb-be33-0e0917197518",
   "metadata": {},
   "outputs": [],
   "source": [
    "import bokeh\n",
    "import math\n",
    "from bokeh.plotting import figure\n",
    "from bokeh.io import show\n",
    "from bokeh.palettes import Muted\n",
    "from bokeh.models import WheelZoomTool\n",
    "import numpy as np"
   ]
  },
  {
   "cell_type": "code",
   "execution_count": 2,
   "id": "fd236a95-8a55-4268-8643-aadb018577c6",
   "metadata": {},
   "outputs": [],
   "source": [
    "vehicle_0 = {\n",
    "    \"length\":4.9,\n",
    "    \"width\":1.9,\n",
    "    \"x\":0,\n",
    "    \"y\":0,\n",
    "    \"theta\":0,\n",
    "    \"vel\":40.0/3.6\n",
    "}\n",
    "\n",
    "obs_0 = {\n",
    "    \"length\":4.9,\n",
    "    \"width\":1.9,\n",
    "    \"x\":10,\n",
    "    \"y\":1.9,\n",
    "    \"theta\":0\n",
    "}"
   ]
  },
  {
   "cell_type": "code",
   "execution_count": 3,
   "id": "de2e2d7c-cc56-43de-9e2e-29d5aae2f1ae",
   "metadata": {},
   "outputs": [],
   "source": [
    "import math\n",
    "\n",
    "def calculate_rectangle_corners(vehicle):\n",
    "    center_x = vehicle[\"x\"]\n",
    "    center_y = vehicle[\"y\"]\n",
    "    length = vehicle[\"length\"]\n",
    "    width = vehicle[\"width\"]\n",
    "    angle_rad = vehicle[\"theta\"]\n",
    "    \n",
    "    # 计算矩形的半长和半宽\n",
    "    half_length = length / 2.0\n",
    "    half_width = width / 2.0\n",
    "\n",
    "    # 计算矩形的四个角点相对于中心点的偏移量\n",
    "    corner_offsets = [\n",
    "        (-half_length, -half_width),  # 左上角\n",
    "        (half_length, -half_width),   # 右上角\n",
    "        (half_length, half_width),    # 右下角\n",
    "        (-half_length, half_width)    # 左下角\n",
    "    ]\n",
    "\n",
    "    # 计算旋转后的角点坐标\n",
    "    corners = []\n",
    "    for offset_x, offset_y in corner_offsets:\n",
    "        rotated_x = center_x + offset_x * math.cos(angle_rad) - offset_y * math.sin(angle_rad)\n",
    "        rotated_y = center_y + offset_x * math.sin(angle_rad) + offset_y * math.cos(angle_rad)\n",
    "        corners.append((rotated_x, rotated_y))\n",
    "\n",
    "    return corners"
   ]
  },
  {
   "cell_type": "code",
   "execution_count": 4,
   "id": "9b168848-762f-4284-9b55-1e97b150a700",
   "metadata": {},
   "outputs": [
    {
     "data": {
      "text/plain": [
       "[(-2.45, -0.95), (2.45, -0.95), (2.45, 0.95), (-2.45, 0.95)]"
      ]
     },
     "execution_count": 4,
     "metadata": {},
     "output_type": "execute_result"
    }
   ],
   "source": [
    "calculate_rectangle_corners(vehicle_0)"
   ]
  },
  {
   "cell_type": "code",
   "execution_count": 5,
   "id": "136b3466-48a4-4744-90fe-52e97afbcadb",
   "metadata": {},
   "outputs": [],
   "source": [
    "def plot_polygon(fig, polygon):\n",
    "    x = []\n",
    "    y = []\n",
    "    for point in polygon:\n",
    "        x.append(point[0])\n",
    "        y.append(point[1])\n",
    "    # print(x)\n",
    "    # print(y)\n",
    "    fig.patch(x,y, line_color=\"black\" ,line_alpha=0.1, line_width=2, fill_color=\"blue\", fill_alpha=0.1)"
   ]
  },
  {
   "cell_type": "code",
   "execution_count": 26,
   "id": "cf2d7b0d-48e3-4688-9a74-c3c4100d08d8",
   "metadata": {},
   "outputs": [],
   "source": [
    "def interpolate(value, x_list, y_list):\n",
    "    if value <= x_list[0]:\n",
    "        return y_list[0]\n",
    "    if value >= x_list[-1]:\n",
    "        return y_list[-1]\n",
    "    \n",
    "    for i in range(len(x_list) - 2):\n",
    "        if value <= x_list[i + 1]:\n",
    "            alpha = (value - x_list[i]) / (x_list[i + 1] - x_list[i])\n",
    "            return y_list[i] + alpha * (y_list[i + 1] - y_list[i])\n",
    "    return y_list[-1]\n",
    "\n",
    "def get_roi_sector(vel):\n",
    "    v_list = [20.0 / 3.6, 40.0 / 3.6, 60.0 / 3.6, 80.0 / 3.6]\n",
    "    kDegreeToRadian = 0.01745329251\n",
    "    sector_angle_list = [100.0 * kDegreeToRadian, 60.0 * kDegreeToRadian, 30.0 * kDegreeToRadian, 10.0 * kDegreeToRadian]\n",
    "    sector_length_list = [11, 15, 33.33, 44.44]\n",
    "    \n",
    "    vel = abs(vel)\n",
    "    return interpolate(vel, v_list, sector_angle_list),interpolate(vel, v_list, sector_length_list)\n",
    "\n",
    "def plot_sector(fig, vehicle):\n",
    "    angle, len = get_roi_sector(vehicle[\"vel\"])\n",
    "    fig.wedge(x=vehicle[\"x\"], y=vehicle[\"y\"], radius=len, start_angle=vehicle[\"theta\"]-angle/2, end_angle=vehicle[\"theta\"]+angle/2, color='green', alpha=0.4)"
   ]
  },
  {
   "cell_type": "markdown",
   "id": "3c2c2884-bd3f-453b-be9c-d7ea1e30747c",
   "metadata": {},
   "source": [
    "# 20 kph"
   ]
  },
  {
   "cell_type": "code",
   "execution_count": 20,
   "id": "878c0e4a-6222-4beb-ad75-d34935e8a8ac",
   "metadata": {},
   "outputs": [],
   "source": [
    "vehicle_1 = {\n",
    "    \"length\":4.9,\n",
    "    \"width\":1.9,\n",
    "    \"x\":0,\n",
    "    \"y\":0,\n",
    "    \"theta\":0,\n",
    "    \"vel\":20.0/3.6\n",
    "}\n",
    "\n",
    "obs_1 = {\n",
    "    \"length\":2.2,\n",
    "    \"width\":0.5,\n",
    "    \"x\":10,\n",
    "    \"y\":1.9,\n",
    "    \"theta\":0\n",
    "}\n",
    "\n",
    "p = figure(width=400, height=400, match_aspect=True)\n",
    "plot_polygon(p, calculate_rectangle_corners(vehicle_1))\n",
    "plot_polygon(p, calculate_rectangle_corners(obs_1))\n",
    "plot_sector(p, vehicle_1)\n",
    "show(p)"
   ]
  },
  {
   "cell_type": "markdown",
   "id": "22b13823-91a8-473b-9680-f19ab5a14bac",
   "metadata": {},
   "source": [
    "# 40 kph"
   ]
  },
  {
   "cell_type": "code",
   "execution_count": 22,
   "id": "5e2d916b-7f36-4bb1-8258-5e0f05e517e7",
   "metadata": {},
   "outputs": [],
   "source": [
    "vehicle_2 = {\n",
    "    \"length\":4.9,\n",
    "    \"width\":1.9,\n",
    "    \"x\":0,\n",
    "    \"y\":0,\n",
    "    \"theta\":0,\n",
    "    \"vel\":40.0/3.6\n",
    "}\n",
    "\n",
    "obs_2 = {\n",
    "    \"length\":2.2,\n",
    "    \"width\":0.5,\n",
    "    \"x\":15,\n",
    "    \"y\":1.9,\n",
    "    \"theta\":0\n",
    "}\n",
    "\n",
    "p = figure(width=400, height=400, match_aspect=True)\n",
    "plot_polygon(p, calculate_rectangle_corners(vehicle_2))\n",
    "plot_polygon(p, calculate_rectangle_corners(obs_2))\n",
    "plot_sector(p, vehicle_2)\n",
    "show(p)"
   ]
  },
  {
   "cell_type": "markdown",
   "id": "f9069643-4644-457e-89e8-bfbb56c091d3",
   "metadata": {},
   "source": [
    "# 60 kph"
   ]
  },
  {
   "cell_type": "code",
   "execution_count": 23,
   "id": "c29b73b6-b8f3-4e4d-bfa4-743255357fe4",
   "metadata": {},
   "outputs": [],
   "source": [
    "vehicle_3 = {\n",
    "    \"length\":4.9,\n",
    "    \"width\":1.9,\n",
    "    \"x\":0,\n",
    "    \"y\":0,\n",
    "    \"theta\":0,\n",
    "    \"vel\":60.0/3.6\n",
    "}\n",
    "\n",
    "obs_3 = {\n",
    "    \"length\":2.2,\n",
    "    \"width\":0.5,\n",
    "    \"x\":30,\n",
    "    \"y\":1.9,\n",
    "    \"theta\":0\n",
    "}\n",
    "\n",
    "p = figure(width=400, height=400, match_aspect=True)\n",
    "plot_polygon(p, calculate_rectangle_corners(vehicle_3))\n",
    "plot_polygon(p, calculate_rectangle_corners(obs_3))\n",
    "plot_sector(p, vehicle_3)\n",
    "show(p)"
   ]
  },
  {
   "cell_type": "markdown",
   "id": "bc2d0e8d-8c35-4bc4-94e3-d0506767fc6f",
   "metadata": {},
   "source": [
    "# 80 kph"
   ]
  },
  {
   "cell_type": "code",
   "execution_count": 27,
   "id": "f26bdff7-38a5-4e8d-b103-492565e7826a",
   "metadata": {},
   "outputs": [],
   "source": [
    "vehicle_4 = {\n",
    "    \"length\":4.9,\n",
    "    \"width\":1.9,\n",
    "    \"x\":0,\n",
    "    \"y\":0,\n",
    "    \"theta\":0,\n",
    "    \"vel\":80.0/3.6\n",
    "}\n",
    "\n",
    "obs_4 = {\n",
    "    \"length\":2.2,\n",
    "    \"width\":0.5,\n",
    "    \"x\":40,\n",
    "    \"y\":1.9,\n",
    "    \"theta\":0\n",
    "}\n",
    "\n",
    "p = figure(width=400, height=400, match_aspect=True)\n",
    "plot_polygon(p, calculate_rectangle_corners(vehicle_4))\n",
    "plot_polygon(p, calculate_rectangle_corners(obs_4))\n",
    "plot_sector(p, vehicle_4)\n",
    "show(p)"
   ]
  },
  {
   "cell_type": "code",
   "execution_count": null,
   "id": "b8a4e990-2213-4077-8615-80a9f286b1b7",
   "metadata": {},
   "outputs": [],
   "source": []
  }
 ],
 "metadata": {
  "kernelspec": {
   "display_name": "Python 3 (ipykernel)",
   "language": "python",
   "name": "python3"
  },
  "language_info": {
   "codemirror_mode": {
    "name": "ipython",
    "version": 3
   },
   "file_extension": ".py",
   "mimetype": "text/x-python",
   "name": "python",
   "nbconvert_exporter": "python",
   "pygments_lexer": "ipython3",
   "version": "3.10.14"
  }
 },
 "nbformat": 4,
 "nbformat_minor": 5
}
