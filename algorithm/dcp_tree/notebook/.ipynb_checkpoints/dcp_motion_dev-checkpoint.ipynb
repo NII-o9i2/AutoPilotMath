{
 "cells": [
  {
   "cell_type": "code",
   "execution_count": 3,
   "id": "4b689885",
   "metadata": {},
   "outputs": [],
   "source": [
    "import sys\n",
    "import numpy as np\n",
    "import os\n",
    "current_directory = os.getcwd()\n",
    "relative_path1 = '../../build/env_simulator'\n",
    "relative_path2 = '../../build/dcp_tree'\n",
    "file_path1 = os.path.join(current_directory, relative_path1)\n",
    "file_path2 = os.path.join(current_directory, relative_path2)\n",
    "sys.path.append(file_path1)\n",
    "sys.path.append(file_path2)\n",
    "import pybind_dcp_tree\n",
    "import pybind_env_simulator"
   ]
  },
  {
   "cell_type": "code",
   "execution_count": 4,
   "id": "a4f5a2b4",
   "metadata": {},
   "outputs": [],
   "source": [
    "\n",
    "# int step_size = 20;\n",
    "#   double delta_t = 0.5;\n",
    "#   DCPMotionTreePoint state;\n",
    "#   DCPMotionTreePoint next_state;\n",
    "#   state.index = 1;\n",
    "#   state.theta = init_theta;\n",
    "#   state.omega = init_omega;\n",
    "#   state.speed_limit = 40;\n",
    "#   state.v = 10;\n",
    "#   state.point.x = 0.0;\n",
    "#   state.point.y = 0.0;\n",
    "\n",
    "#   for (int i = 0; i< step_size; i++){\n",
    "#     init_points.emplace_back(state);\n",
    "#     DCPMotionTree::step_a_omega_dcp(state,next_state,delta_t);\n",
    "#     state = next_state;\n",
    "#   }\n",
    "#   DCPObjectInfo obj1;\n",
    "#   obj1.center_point.x = 25.0;\n",
    "#   obj1.center_point.y = 0.0;\n",
    "\n",
    "#   std::vector<DCPObjectInfo> obj_list;\n",
    "#   obj_list.emplace_back(obj1);\n",
    "\n",
    "#   DCPMotionTree motion_tree;\n",
    "#   motion_tree.init(init_points,obj_list);\n",
    "\n"
   ]
  },
  {
   "cell_type": "code",
   "execution_count": 5,
   "id": "0204b906",
   "metadata": {},
   "outputs": [],
   "source": [
    "def process_init_state(init_theta, init_omega):\n",
    "    step_size = 20\n",
    "    delta_t = 0.5\n",
    "    state = pybind_dcp_tree.DCPMotionTreePoint()\n",
    "    next_state = pybind_dcp_tree.DCPMotionTreePoint()\n",
    "    state.index = 1\n",
    "    state.theta = init_theta\n",
    "    state.omega = init_omega\n",
    "    state.speed_limit = 40\n",
    "    state.v = 10\n",
    "    state.point.x = 0.0\n",
    "    state.point.y = 0.0\n",
    "    \n",
    "    init_points = []\n",
    "    \n",
    "    motion_tree = pybind_dcp_tree.DCPMotionTree()\n",
    "    \n",
    "    for i in range(step_size):\n",
    "        init_points.append(state)\n",
    "        pybind_dcp_tree.DCPMotionTree.step_a_omega_dcp(state,next_state,delta_t)\n",
    "        state = next_state\n",
    "        print(state.point.x)\n",
    "        \n",
    "    obj1 = pybind_dcp_tree.DCPObjectInfo()\n",
    "    obj1.center_point.x = 25.0;\n",
    "    obj1.center_point.y = 0.0;\n",
    "\n",
    "    obj_list = []\n",
    "    obj_list.append(obj1)\n",
    "\n",
    "    motion_tree.init(init_points,obj_list)\n",
    "    \n",
    "    return motion_tree"
   ]
  },
  {
   "cell_type": "code",
   "execution_count": 6,
   "id": "de463f6a",
   "metadata": {},
   "outputs": [
    {
     "name": "stdout",
     "output_type": "stream",
     "text": [
      "5.0\n",
      "10.0\n",
      "15.0\n",
      "20.0\n",
      "25.0\n",
      "30.0\n",
      "35.0\n",
      "40.0\n",
      "45.0\n",
      "50.0\n",
      "55.0\n",
      "60.0\n",
      "65.0\n",
      "70.0\n",
      "75.0\n",
      "80.0\n",
      "85.0\n",
      "90.0\n",
      "95.0\n",
      "100.0\n"
     ]
    }
   ],
   "source": [
    "process_init_state(0.0, 0.0)"
   ]
  },
  {
   "cell_type": "code",
   "execution_count": null,
   "id": "c0470901",
   "metadata": {},
   "outputs": [],
   "source": []
  },
  {
   "cell_type": "code",
   "execution_count": null,
   "id": "b259ca02",
   "metadata": {},
   "outputs": [],
   "source": []
  }
 ],
 "metadata": {
  "kernelspec": {
   "display_name": "Python 3.10",
   "language": "python",
   "name": "myenv"
  },
  "language_info": {
   "codemirror_mode": {
    "name": "ipython",
    "version": 3
   },
   "file_extension": ".py",
   "mimetype": "text/x-python",
   "name": "python",
   "nbconvert_exporter": "python",
   "pygments_lexer": "ipython3",
   "version": "3.10.11"
  }
 },
 "nbformat": 4,
 "nbformat_minor": 5
}
