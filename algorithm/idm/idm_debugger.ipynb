{
 "cells": [
  {
   "cell_type": "code",
   "execution_count": 74,
   "metadata": {},
   "outputs": [
    {
     "name": "stdout",
     "output_type": "stream",
     "text": [
      "****************************** IDMCaseManager start read case ******************************\n",
      "{'idm_info': {'a_leader_init': 1, 'leader_length': 4.0, 't_triger': [0.0, 6.0], 's_leader_init': 17, 'v_refs': 22.22, 'v_leader_init': 15.8, 'exist_leader': 1}, 'ego_init_info': {'s': -0.5, 'v': 18.08, 'a': 0}}\n",
      "[] []\n",
      "s leadre info: 31 [17, 20.22, 23.48, 26.78, 30.12, 33.5, 36.92, 40.38, 43.88, 47.42, 51.0, 54.62, 58.279999999999994, 61.97999999999999, 65.71999999999998, 69.49999999999999, 73.31999999999998, 77.17999999999998, 81.07999999999997, 85.01999999999997, 88.99999999999997, 93.01999999999997, 97.07999999999997, 101.17999999999996, 105.31999999999996, 109.49999999999996, 113.71999999999996, 117.97999999999995, 122.27999999999994, 126.61999999999993, 130.99999999999994]\n",
      "v leadre info: 31 [15.8, 16.0, 16.2, 16.4, 16.599999999999998, 16.799999999999997, 16.999999999999996, 17.199999999999996, 17.399999999999995, 17.599999999999994, 17.799999999999994, 17.999999999999993, 18.199999999999992, 18.39999999999999, 18.59999999999999, 18.79999999999999, 18.99999999999999, 19.19999999999999, 19.399999999999988, 19.599999999999987, 19.799999999999986, 19.999999999999986, 20.199999999999985, 20.399999999999984, 20.599999999999984, 20.799999999999983, 20.999999999999982, 21.19999999999998, 21.39999999999998, 21.59999999999998, 21.79999999999998]\n"
     ]
    }
   ],
   "source": [
    "import sys\n",
    "sys.path.append('/home/sensetime/ws/common_math/algorithm/idm/build')\n",
    "from idm_case_ploter import IDMCasePloter\n",
    "from idm_case_manager import  IDMCaseManager\n",
    "import pybind_idm\n",
    "from bokeh.plotting import figure, show, output_notebook\n",
    "from idm_debug import IDMDebug\n",
    "from bokeh.plotting import figure, show, output_file, output_notebook\n",
    "import argparse\n",
    "from scipy.interpolate import interp1d\n",
    "import numpy as np\n",
    "from idm_case_manager import IDMCaseManager\n",
    "from idm_case_ploter import IDMCasePloter\n",
    "import sys\n",
    "\n",
    "def linear_interpolation(x, y, x_new):\n",
    "    f = interp1d(x, y, kind='linear')\n",
    "    return f(x_new)\n",
    "\n",
    "case_path = '/idm_case_file'\n",
    "case_manager = IDMCaseManager(case_path)\n",
    "picked_case = case_manager.get_case('follow_40kph')\n",
    "# print(picked_case)\n",
    "\n",
    "t_triger_std = picked_case['idm_info']['t_triger']\n",
    "# read leader info\n",
    "leadercarlength_std = picked_case['idm_info']['leader_length']\n",
    "\n",
    "s_leader_init = picked_case['idm_info']['s_leader_init']\n",
    "\n",
    "v_leader_init = picked_case['idm_info']['v_leader_init']\n",
    "\n",
    "a_leader_init = picked_case['idm_info']['a_leader_init']\n",
    "\n",
    "exist_leader = picked_case['idm_info']['exist_leader']\n",
    "\n",
    "# read v_refs\n",
    "v_refs = picked_case['idm_info']['v_refs']\n",
    "\n",
    "\n",
    "# print(v_refs,exist_leader, s_leader_init, v_leader_init, a_leader_init)\n",
    "\n",
    "# read ego init info\n",
    "ego_s = picked_case['ego_init_info']['s']\n",
    "ego_v = picked_case['ego_init_info']['v']\n",
    "ego_a = picked_case['ego_init_info']['a']\n",
    "\n",
    "# print(ego_s,ego_v,ego_a)\n",
    "\n",
    "\n",
    "# linear_interpolation info to idm input can use\n",
    "leader_info = []\n",
    "\n",
    "t_triger_list = []\n",
    "leadercarlength_list = []\n",
    "s_leader_list = []\n",
    "v_leader_list = []\n",
    "\n",
    "exist_leader_list = []\n",
    "v_refs_list = []\n",
    "\n",
    "print(s_leader_list,v_leader_list)\n",
    "for i in np.arange(0, 6.1, 0.2):\n",
    "        t_triger_list.append(i)\n",
    "for t in t_triger_list:\n",
    "        exist_leader_list.append(exist_leader)\n",
    "        leadercarlength_list.append(leadercarlength_std)\n",
    "        v_refs_list.append(v_refs)\n",
    "# print(\"exist_leader_list:\",len(exist_leader_list),exist_leader_list)\n",
    "# print(\"leadercarlength_list:\",len(leadercarlength_list),leadercarlength_list)\n",
    "# print(\"v_refs_list:\",len(v_refs_list),v_refs_list)\n",
    "\n",
    "tmp_leader_s = s_leader_init\n",
    "tmp_leader_v = v_leader_init\n",
    "const_a = a_leader_init\n",
    "\n",
    "for t in t_triger_list:\n",
    "        v_leader_list.append(tmp_leader_v)\n",
    "        s_leader_list.append(tmp_leader_s)\n",
    "        tmp_leader_v += const_a * 0.2\n",
    "        tmp_leader_s += tmp_leader_v * 0.2 + 0.5 * const_a * 0.2 * 0.2\n",
    "\n",
    "print(\"s leadre info:\",len(s_leader_list),s_leader_list)\n",
    "print(\"v leadre info:\",len(v_leader_list),v_leader_list)\n",
    "\n"
   ]
  },
  {
   "cell_type": "code",
   "execution_count": 75,
   "metadata": {},
   "outputs": [
    {
     "data": {
      "text/html": [
       "\n",
       "    <div class=\"bk-root\">\n",
       "        <a href=\"https://bokeh.org\" target=\"_blank\" class=\"bk-logo bk-logo-small bk-logo-notebook\"></a>\n",
       "        <span id=\"6189\">Loading BokehJS ...</span>\n",
       "    </div>"
      ]
     },
     "metadata": {},
     "output_type": "display_data"
    },
    {
     "data": {
      "application/javascript": "\n(function(root) {\n  function now() {\n    return new Date();\n  }\n\n  var force = true;\n\n  if (typeof root._bokeh_onload_callbacks === \"undefined\" || force === true) {\n    root._bokeh_onload_callbacks = [];\n    root._bokeh_is_loading = undefined;\n  }\n\n  var JS_MIME_TYPE = 'application/javascript';\n  var HTML_MIME_TYPE = 'text/html';\n  var EXEC_MIME_TYPE = 'application/vnd.bokehjs_exec.v0+json';\n  var CLASS_NAME = 'output_bokeh rendered_html';\n\n  /**\n   * Render data to the DOM node\n   */\n  function render(props, node) {\n    var script = document.createElement(\"script\");\n    node.appendChild(script);\n  }\n\n  /**\n   * Handle when an output is cleared or removed\n   */\n  function handleClearOutput(event, handle) {\n    var cell = handle.cell;\n\n    var id = cell.output_area._bokeh_element_id;\n    var server_id = cell.output_area._bokeh_server_id;\n    // Clean up Bokeh references\n    if (id != null && id in Bokeh.index) {\n      Bokeh.index[id].model.document.clear();\n      delete Bokeh.index[id];\n    }\n\n    if (server_id !== undefined) {\n      // Clean up Bokeh references\n      var cmd = \"from bokeh.io.state import curstate; print(curstate().uuid_to_server['\" + server_id + \"'].get_sessions()[0].document.roots[0]._id)\";\n      cell.notebook.kernel.execute(cmd, {\n        iopub: {\n          output: function(msg) {\n            var id = msg.content.text.trim();\n            if (id in Bokeh.index) {\n              Bokeh.index[id].model.document.clear();\n              delete Bokeh.index[id];\n            }\n          }\n        }\n      });\n      // Destroy server and session\n      var cmd = \"import bokeh.io.notebook as ion; ion.destroy_server('\" + server_id + \"')\";\n      cell.notebook.kernel.execute(cmd);\n    }\n  }\n\n  /**\n   * Handle when a new output is added\n   */\n  function handleAddOutput(event, handle) {\n    var output_area = handle.output_area;\n    var output = handle.output;\n\n    // limit handleAddOutput to display_data with EXEC_MIME_TYPE content only\n    if ((output.output_type != \"display_data\") || (!output.data.hasOwnProperty(EXEC_MIME_TYPE))) {\n      return\n    }\n\n    var toinsert = output_area.element.find(\".\" + CLASS_NAME.split(' ')[0]);\n\n    if (output.metadata[EXEC_MIME_TYPE][\"id\"] !== undefined) {\n      toinsert[toinsert.length - 1].firstChild.textContent = output.data[JS_MIME_TYPE];\n      // store reference to embed id on output_area\n      output_area._bokeh_element_id = output.metadata[EXEC_MIME_TYPE][\"id\"];\n    }\n    if (output.metadata[EXEC_MIME_TYPE][\"server_id\"] !== undefined) {\n      var bk_div = document.createElement(\"div\");\n      bk_div.innerHTML = output.data[HTML_MIME_TYPE];\n      var script_attrs = bk_div.children[0].attributes;\n      for (var i = 0; i < script_attrs.length; i++) {\n        toinsert[toinsert.length - 1].firstChild.setAttribute(script_attrs[i].name, script_attrs[i].value);\n      }\n      // store reference to server id on output_area\n      output_area._bokeh_server_id = output.metadata[EXEC_MIME_TYPE][\"server_id\"];\n    }\n  }\n\n  function register_renderer(events, OutputArea) {\n\n    function append_mime(data, metadata, element) {\n      // create a DOM node to render to\n      var toinsert = this.create_output_subarea(\n        metadata,\n        CLASS_NAME,\n        EXEC_MIME_TYPE\n      );\n      this.keyboard_manager.register_events(toinsert);\n      // Render to node\n      var props = {data: data, metadata: metadata[EXEC_MIME_TYPE]};\n      render(props, toinsert[toinsert.length - 1]);\n      element.append(toinsert);\n      return toinsert\n    }\n\n    /* Handle when an output is cleared or removed */\n    events.on('clear_output.CodeCell', handleClearOutput);\n    events.on('delete.Cell', handleClearOutput);\n\n    /* Handle when a new output is added */\n    events.on('output_added.OutputArea', handleAddOutput);\n\n    /**\n     * Register the mime type and append_mime function with output_area\n     */\n    OutputArea.prototype.register_mime_type(EXEC_MIME_TYPE, append_mime, {\n      /* Is output safe? */\n      safe: true,\n      /* Index of renderer in `output_area.display_order` */\n      index: 0\n    });\n  }\n\n  // register the mime type if in Jupyter Notebook environment and previously unregistered\n  if (root.Jupyter !== undefined) {\n    var events = require('base/js/events');\n    var OutputArea = require('notebook/js/outputarea').OutputArea;\n\n    if (OutputArea.prototype.mime_types().indexOf(EXEC_MIME_TYPE) == -1) {\n      register_renderer(events, OutputArea);\n    }\n  }\n\n  \n  if (typeof (root._bokeh_timeout) === \"undefined\" || force === true) {\n    root._bokeh_timeout = Date.now() + 5000;\n    root._bokeh_failed_load = false;\n  }\n\n  var NB_LOAD_WARNING = {'data': {'text/html':\n     \"<div style='background-color: #fdd'>\\n\"+\n     \"<p>\\n\"+\n     \"BokehJS does not appear to have successfully loaded. If loading BokehJS from CDN, this \\n\"+\n     \"may be due to a slow or bad network connection. Possible fixes:\\n\"+\n     \"</p>\\n\"+\n     \"<ul>\\n\"+\n     \"<li>re-rerun `output_notebook()` to attempt to load from CDN again, or</li>\\n\"+\n     \"<li>use INLINE resources instead, as so:</li>\\n\"+\n     \"</ul>\\n\"+\n     \"<code>\\n\"+\n     \"from bokeh.resources import INLINE\\n\"+\n     \"output_notebook(resources=INLINE)\\n\"+\n     \"</code>\\n\"+\n     \"</div>\"}};\n\n  function display_loaded() {\n    var el = document.getElementById(\"6189\");\n    if (el != null) {\n      el.textContent = \"BokehJS is loading...\";\n    }\n    if (root.Bokeh !== undefined) {\n      if (el != null) {\n        el.textContent = \"BokehJS \" + root.Bokeh.version + \" successfully loaded.\";\n      }\n    } else if (Date.now() < root._bokeh_timeout) {\n      setTimeout(display_loaded, 100)\n    }\n  }\n\n\n  function run_callbacks() {\n    try {\n      root._bokeh_onload_callbacks.forEach(function(callback) {\n        if (callback != null)\n          callback();\n      });\n    } finally {\n      delete root._bokeh_onload_callbacks\n    }\n    console.debug(\"Bokeh: all callbacks have finished\");\n  }\n\n  function load_libs(css_urls, js_urls, callback) {\n    if (css_urls == null) css_urls = [];\n    if (js_urls == null) js_urls = [];\n\n    root._bokeh_onload_callbacks.push(callback);\n    if (root._bokeh_is_loading > 0) {\n      console.debug(\"Bokeh: BokehJS is being loaded, scheduling callback at\", now());\n      return null;\n    }\n    if (js_urls == null || js_urls.length === 0) {\n      run_callbacks();\n      return null;\n    }\n    console.debug(\"Bokeh: BokehJS not loaded, scheduling load and callback at\", now());\n    root._bokeh_is_loading = css_urls.length + js_urls.length;\n\n    function on_load() {\n      root._bokeh_is_loading--;\n      if (root._bokeh_is_loading === 0) {\n        console.debug(\"Bokeh: all BokehJS libraries/stylesheets loaded\");\n        run_callbacks()\n      }\n    }\n\n    function on_error() {\n      console.error(\"failed to load \" + url);\n    }\n\n    for (var i = 0; i < css_urls.length; i++) {\n      var url = css_urls[i];\n      const element = document.createElement(\"link\");\n      element.onload = on_load;\n      element.onerror = on_error;\n      element.rel = \"stylesheet\";\n      element.type = \"text/css\";\n      element.href = url;\n      console.debug(\"Bokeh: injecting link tag for BokehJS stylesheet: \", url);\n      document.body.appendChild(element);\n    }\n\n    for (var i = 0; i < js_urls.length; i++) {\n      var url = js_urls[i];\n      var element = document.createElement('script');\n      element.onload = on_load;\n      element.onerror = on_error;\n      element.async = false;\n      element.src = url;\n      console.debug(\"Bokeh: injecting script tag for BokehJS library: \", url);\n      document.head.appendChild(element);\n    }\n  };var element = document.getElementById(\"6189\");\n  if (element == null) {\n    console.error(\"Bokeh: ERROR: autoload.js configured with elementid '6189' but no matching script tag was found. \")\n    return false;\n  }\n\n  function inject_raw_css(css) {\n    const element = document.createElement(\"style\");\n    element.appendChild(document.createTextNode(css));\n    document.body.appendChild(element);\n  }\n\n  \n  var js_urls = [\"https://cdn.pydata.org/bokeh/release/bokeh-1.4.0.min.js\", \"https://cdn.pydata.org/bokeh/release/bokeh-widgets-1.4.0.min.js\", \"https://cdn.pydata.org/bokeh/release/bokeh-tables-1.4.0.min.js\", \"https://cdn.pydata.org/bokeh/release/bokeh-gl-1.4.0.min.js\"];\n  var css_urls = [];\n  \n\n  var inline_js = [\n    function(Bokeh) {\n      Bokeh.set_log_level(\"info\");\n    },\n    function(Bokeh) {\n    \n    \n    }\n  ];\n\n  function run_inline_js() {\n    \n    if (root.Bokeh !== undefined || force === true) {\n      \n    for (var i = 0; i < inline_js.length; i++) {\n      inline_js[i].call(root, root.Bokeh);\n    }\n    if (force === true) {\n        display_loaded();\n      }} else if (Date.now() < root._bokeh_timeout) {\n      setTimeout(run_inline_js, 100);\n    } else if (!root._bokeh_failed_load) {\n      console.log(\"Bokeh: BokehJS failed to load within specified timeout.\");\n      root._bokeh_failed_load = true;\n    } else if (force !== true) {\n      var cell = $(document.getElementById(\"6189\")).parents('.cell').data().cell;\n      cell.output_area.append_execute_result(NB_LOAD_WARNING)\n    }\n\n  }\n\n  if (root._bokeh_is_loading === 0) {\n    console.debug(\"Bokeh: BokehJS loaded, going straight to plotting\");\n    run_inline_js();\n  } else {\n    load_libs(css_urls, js_urls, function() {\n      console.debug(\"Bokeh: BokehJS plotting callback run at\", now());\n      run_inline_js();\n    });\n  }\n}(window));",
      "application/vnd.bokehjs_load.v0+json": ""
     },
     "metadata": {},
     "output_type": "display_data"
    },
    {
     "data": {
      "text/html": [
       "\n",
       "\n",
       "\n",
       "\n",
       "\n",
       "\n",
       "  <div class=\"bk-root\" id=\"87579b72-2663-401b-85d3-7ee1f7a9affc\" data-root-id=\"6128\"></div>\n"
      ]
     },
     "metadata": {},
     "output_type": "display_data"
    },
    {
     "data": {
      "application/javascript": "(function(root) {\n  function embed_document(root) {\n    \n  var docs_json = {\"8f837db9-e326-427b-b8b6-7b8409b15dcb\":{\"roots\":{\"references\":[{\"attributes\":{\"callback\":null,\"end\":30,\"start\":-5},\"id\":\"6131\",\"type\":\"Range1d\"},{\"attributes\":{},\"id\":\"6147\",\"type\":\"PanTool\"},{\"attributes\":{},\"id\":\"6138\",\"type\":\"BasicTicker\"},{\"attributes\":{},\"id\":\"6185\",\"type\":\"UnionRenderers\"},{\"attributes\":{\"callback\":null,\"data\":{\"x\":[-0.5,3.1,6.651999999999999,10.147030178432269,13.600692380123572,17.02823351302223,20.441581650213568,23.85015980985527,27.261474326100583,30.681548381610654,34.1152463728494,37.566519704060525,41.038595077037456,44.534120104660154,48.05527687290542,51.60387117847609,55.181403133934424,58.78912338015524,62.42807809601078,66.09914522714058,69.80306378785885,73.54045766646061,77.31185504508068,81.1177043030047,84.9583870870153,88.83385560986402,92.74299926444174,96.6840745015005,100.65540004929349,104.65535781507309,108.6823933671717],\"y\":[18.08,17.919999999999998,17.599999999999998,17.350301784322696,17.18632023259033,17.089091096396235,17.044390275517152,17.04139132089989,17.071753841553218,17.128986713547487,17.20799319883999,17.304740113271258,17.41601361649805,17.539236659728918,17.672331022723675,17.81361203298309,17.961707521600275,18.115494940607903,18.2740522179475,18.436619093350465,18.60256651383222,18.77137227218545,18.942601514015262,19.115891065225036,19.290936774880855,19.46374845360639,19.627688092170764,19.783064278416973,19.930191199512898,20.069386458283066,20.200969062703]},\"selected\":{\"id\":\"6421\",\"type\":\"Selection\"},\"selection_policy\":{\"id\":\"6420\",\"type\":\"UnionRenderers\"}},\"id\":\"6174\",\"type\":\"ColumnDataSource\"},{\"attributes\":{\"fill_alpha\":{\"value\":0.1},\"fill_color\":{\"value\":\"#1f77b4\"},\"line_alpha\":{\"value\":0.1},\"line_color\":{\"value\":\"#1f77b4\"},\"x\":{\"field\":\"x\"},\"y\":{\"field\":\"y\"}},\"id\":\"6162\",\"type\":\"Scatter\"},{\"attributes\":{\"dimension\":1,\"ticker\":{\"id\":\"6143\",\"type\":\"BasicTicker\"}},\"id\":\"6146\",\"type\":\"Grid\"},{\"attributes\":{},\"id\":\"6169\",\"type\":\"BasicTickFormatter\"},{\"attributes\":{\"fill_alpha\":{\"value\":0.1},\"fill_color\":{\"value\":\"#1f77b4\"},\"line_alpha\":{\"value\":0.1},\"line_color\":{\"value\":\"#1f77b4\"},\"x\":{\"field\":\"x\"},\"y\":{\"field\":\"y\"}},\"id\":\"6176\",\"type\":\"Scatter\"},{\"attributes\":{},\"id\":\"6133\",\"type\":\"LinearScale\"},{\"attributes\":{\"axis_label\":\"s/m\",\"formatter\":{\"id\":\"6169\",\"type\":\"BasicTickFormatter\"},\"ticker\":{\"id\":\"6138\",\"type\":\"BasicTicker\"}},\"id\":\"6137\",\"type\":\"LinearAxis\"},{\"attributes\":{},\"id\":\"6151\",\"type\":\"ResetTool\"},{\"attributes\":{\"label\":{\"value\":\"ego_idm_v_s\"},\"renderers\":[{\"id\":\"6177\",\"type\":\"GlyphRenderer\"}]},\"id\":\"6188\",\"type\":\"LegendItem\"},{\"attributes\":{},\"id\":\"6152\",\"type\":\"HelpTool\"},{\"attributes\":{\"ticker\":{\"id\":\"6138\",\"type\":\"BasicTicker\"}},\"id\":\"6141\",\"type\":\"Grid\"},{\"attributes\":{},\"id\":\"6421\",\"type\":\"Selection\"},{\"attributes\":{\"bottom_units\":\"screen\",\"fill_alpha\":{\"value\":0.5},\"fill_color\":{\"value\":\"lightgrey\"},\"left_units\":\"screen\",\"level\":\"overlay\",\"line_alpha\":{\"value\":1.0},\"line_color\":{\"value\":\"black\"},\"line_dash\":[4,4],\"line_width\":{\"value\":2},\"render_mode\":\"css\",\"right_units\":\"screen\",\"top_units\":\"screen\"},\"id\":\"6171\",\"type\":\"BoxAnnotation\"},{\"attributes\":{\"label\":{\"value\":\"leader_v_s\"},\"renderers\":[{\"id\":\"6163\",\"type\":\"GlyphRenderer\"}]},\"id\":\"6173\",\"type\":\"LegendItem\"},{\"attributes\":{},\"id\":\"6420\",\"type\":\"UnionRenderers\"},{\"attributes\":{},\"id\":\"6167\",\"type\":\"BasicTickFormatter\"},{\"attributes\":{\"overlay\":{\"id\":\"6171\",\"type\":\"BoxAnnotation\"}},\"id\":\"6149\",\"type\":\"BoxZoomTool\"},{\"attributes\":{\"source\":{\"id\":\"6160\",\"type\":\"ColumnDataSource\"}},\"id\":\"6164\",\"type\":\"CDSView\"},{\"attributes\":{\"axis_label\":\"v/m/s\",\"formatter\":{\"id\":\"6167\",\"type\":\"BasicTickFormatter\"},\"ticker\":{\"id\":\"6143\",\"type\":\"BasicTicker\"}},\"id\":\"6142\",\"type\":\"LinearAxis\"},{\"attributes\":{\"items\":[{\"id\":\"6173\",\"type\":\"LegendItem\"},{\"id\":\"6188\",\"type\":\"LegendItem\"}]},\"id\":\"6172\",\"type\":\"Legend\"},{\"attributes\":{\"fill_color\":{\"value\":\"black\"},\"line_alpha\":{\"value\":0.4},\"x\":{\"field\":\"x\"},\"y\":{\"field\":\"y\"}},\"id\":\"6175\",\"type\":\"Scatter\"},{\"attributes\":{\"data_source\":{\"id\":\"6160\",\"type\":\"ColumnDataSource\"},\"glyph\":{\"id\":\"6161\",\"type\":\"Scatter\"},\"hover_glyph\":null,\"muted_glyph\":null,\"nonselection_glyph\":{\"id\":\"6162\",\"type\":\"Scatter\"},\"selection_glyph\":null,\"view\":{\"id\":\"6164\",\"type\":\"CDSView\"}},\"id\":\"6163\",\"type\":\"GlyphRenderer\"},{\"attributes\":{\"text\":\"\"},\"id\":\"6165\",\"type\":\"Title\"},{\"attributes\":{},\"id\":\"6143\",\"type\":\"BasicTicker\"},{\"attributes\":{},\"id\":\"6186\",\"type\":\"Selection\"},{\"attributes\":{\"source\":{\"id\":\"6174\",\"type\":\"ColumnDataSource\"}},\"id\":\"6178\",\"type\":\"CDSView\"},{\"attributes\":{},\"id\":\"6148\",\"type\":\"WheelZoomTool\"},{\"attributes\":{\"active_drag\":\"auto\",\"active_inspect\":\"auto\",\"active_multi\":null,\"active_scroll\":\"auto\",\"active_tap\":\"auto\",\"tools\":[{\"id\":\"6147\",\"type\":\"PanTool\"},{\"id\":\"6148\",\"type\":\"WheelZoomTool\"},{\"id\":\"6149\",\"type\":\"BoxZoomTool\"},{\"id\":\"6150\",\"type\":\"SaveTool\"},{\"id\":\"6151\",\"type\":\"ResetTool\"},{\"id\":\"6152\",\"type\":\"HelpTool\"}]},\"id\":\"6153\",\"type\":\"Toolbar\"},{\"attributes\":{\"callback\":null,\"data\":{\"x\":[17,20.22,23.48,26.78,30.12,33.5,36.92,40.38,43.88,47.42,51.0,54.62,58.279999999999994,61.97999999999999,65.71999999999998,69.49999999999999,73.31999999999998,77.17999999999998,81.07999999999997,85.01999999999997,88.99999999999997,93.01999999999997,97.07999999999997,101.17999999999996,105.31999999999996,109.49999999999996,113.71999999999996,117.97999999999995,122.27999999999994,126.61999999999993,130.99999999999994],\"y\":[15.8,16.0,16.2,16.4,16.599999999999998,16.799999999999997,16.999999999999996,17.199999999999996,17.399999999999995,17.599999999999994,17.799999999999994,17.999999999999993,18.199999999999992,18.39999999999999,18.59999999999999,18.79999999999999,18.99999999999999,19.19999999999999,19.399999999999988,19.599999999999987,19.799999999999986,19.999999999999986,20.199999999999985,20.399999999999984,20.599999999999984,20.799999999999983,20.999999999999982,21.19999999999998,21.39999999999998,21.59999999999998,21.79999999999998]},\"selected\":{\"id\":\"6186\",\"type\":\"Selection\"},\"selection_policy\":{\"id\":\"6185\",\"type\":\"UnionRenderers\"}},\"id\":\"6160\",\"type\":\"ColumnDataSource\"},{\"attributes\":{},\"id\":\"6135\",\"type\":\"LinearScale\"},{\"attributes\":{\"fill_color\":{\"value\":\"blue\"},\"line_alpha\":{\"value\":0.4},\"line_color\":{\"value\":\"blue\"},\"x\":{\"field\":\"x\"},\"y\":{\"field\":\"y\"}},\"id\":\"6161\",\"type\":\"Scatter\"},{\"attributes\":{\"below\":[{\"id\":\"6137\",\"type\":\"LinearAxis\"}],\"center\":[{\"id\":\"6141\",\"type\":\"Grid\"},{\"id\":\"6146\",\"type\":\"Grid\"},{\"id\":\"6172\",\"type\":\"Legend\"}],\"left\":[{\"id\":\"6142\",\"type\":\"LinearAxis\"}],\"plot_height\":400,\"renderers\":[{\"id\":\"6163\",\"type\":\"GlyphRenderer\"},{\"id\":\"6177\",\"type\":\"GlyphRenderer\"}],\"title\":{\"id\":\"6165\",\"type\":\"Title\"},\"toolbar\":{\"id\":\"6153\",\"type\":\"Toolbar\"},\"x_range\":{\"id\":\"6129\",\"type\":\"Range1d\"},\"x_scale\":{\"id\":\"6133\",\"type\":\"LinearScale\"},\"y_range\":{\"id\":\"6131\",\"type\":\"Range1d\"},\"y_scale\":{\"id\":\"6135\",\"type\":\"LinearScale\"}},\"id\":\"6128\",\"subtype\":\"Figure\",\"type\":\"Plot\"},{\"attributes\":{},\"id\":\"6150\",\"type\":\"SaveTool\"},{\"attributes\":{\"data_source\":{\"id\":\"6174\",\"type\":\"ColumnDataSource\"},\"glyph\":{\"id\":\"6175\",\"type\":\"Scatter\"},\"hover_glyph\":null,\"muted_glyph\":null,\"nonselection_glyph\":{\"id\":\"6176\",\"type\":\"Scatter\"},\"selection_glyph\":null,\"view\":{\"id\":\"6178\",\"type\":\"CDSView\"}},\"id\":\"6177\",\"type\":\"GlyphRenderer\"},{\"attributes\":{\"callback\":null,\"end\":150},\"id\":\"6129\",\"type\":\"Range1d\"}],\"root_ids\":[\"6128\"]},\"title\":\"Bokeh Application\",\"version\":\"1.4.0\"}};\n  var render_items = [{\"docid\":\"8f837db9-e326-427b-b8b6-7b8409b15dcb\",\"roots\":{\"6128\":\"87579b72-2663-401b-85d3-7ee1f7a9affc\"}}];\n  root.Bokeh.embed.embed_items_notebook(docs_json, render_items);\n\n  }\n  if (root.Bokeh !== undefined) {\n    embed_document(root);\n  } else {\n    var attempts = 0;\n    var timer = setInterval(function(root) {\n      if (root.Bokeh !== undefined) {\n        clearInterval(timer);\n        embed_document(root);\n      } else {\n        attempts++;\n        if (attempts > 100) {\n          clearInterval(timer);\n          console.log(\"Bokeh: ERROR: Unable to run BokehJS code because BokehJS library is missing\");\n        }\n      }\n    }, 10, root)\n  }\n})(window);",
      "application/vnd.bokehjs_exec.v0+json": ""
     },
     "metadata": {
      "application/vnd.bokehjs_exec.v0+json": {
       "id": "6128"
      }
     },
     "output_type": "display_data"
    }
   ],
   "source": [
    "\n",
    "for i in range(len(t_triger_list)):\n",
    "    leader_info.append(pybind_idm.SpeedPlannerProfile(\n",
    "        leadercarlength_list[i], s_leader_list[i], v_leader_list[i], exist_leader_list[i]))\n",
    "ego_info = pybind_idm.EgoInfo(ego_s,ego_v,ego_a)\n",
    "idm_params = pybind_idm.IDMParam(\n",
    "        0.2,  # delta_t\n",
    "        4.0,  # idm_cosnt_jerk\n",
    "        3.0,  # delta\n",
    "        2.0,  # acc_delta\n",
    "        3.5,  # desired_deceleration\n",
    "        2.5,  # max_acc 输出限幅\n",
    "        1.0,  # time_headway\n",
    "        1.5,  # follow_car_delta\n",
    "        0.0,  # min_spacing\n",
    "        3.5,  # min_deceleration 输出限幅\n",
    "        [9.49, 18.98, 28.48],  # v_std\n",
    "        [0.88, 1.7, 2.7],     # vel_error_std\n",
    "        [0.0, 2.78, 11.11, 22.22, 90.0],  # idm_delta_v\n",
    "        [3.0, 4.0, 5.0, 6.0, 8.0],     # idm_min_spacing_list\n",
    "        0.0,  # desired_spd\n",
    "        0.0)  # change_rate\n",
    "\n",
    "idm_output = pybind_idm.get_idm_output(\n",
    "        ego_info, leader_info, idm_params, v_refs_list)\n",
    "\n",
    "idm_output_s_list=[]\n",
    "idm_output_v_list=[]\n",
    "idm_output_a_list=[]\n",
    "idm_output_t_list=[]\n",
    "\n",
    "for idm_output_list in idm_output:\n",
    "        idm_output_s_list.append(idm_output_list.s_ref_out)\n",
    "        idm_output_v_list.append(idm_output_list.v_ref_out)\n",
    "        idm_output_a_list.append(idm_output_list.a_ref_out)\n",
    "        idm_output_t_list.append(idm_output_list.t)\n",
    "\n",
    "# plot sv leader\n",
    "fig_leader_v_s = figure(width=600, height=400, x_range=[0, 150], y_range=[-5, 30])\n",
    "fig_leader_v_s.scatter(\n",
    "        s_leader_list, v_leader_list, color='blue', line_alpha=0.4, legend_label=\"leader_v_s\")\n",
    "fig_leader_v_s.scatter(\n",
    "            idm_output_s_list, idm_output_v_list, color='black', line_alpha=0.4, legend_label=\"ego_idm_v_s\")\n",
    "fig_leader_v_s.xaxis.axis_label = \"s/m\"\n",
    "fig_leader_v_s.yaxis.axis_label = \"v/m/s\"\n",
    "\n",
    "\n",
    "        \n",
    "output_notebook()\n",
    "show(fig_leader_v_s)\n",
    "\n"
   ]
  },
  {
   "cell_type": "code",
   "execution_count": 76,
   "metadata": {},
   "outputs": [
    {
     "data": {
      "text/html": [
       "\n",
       "    <div class=\"bk-root\">\n",
       "        <a href=\"https://bokeh.org\" target=\"_blank\" class=\"bk-logo bk-logo-small bk-logo-notebook\"></a>\n",
       "        <span id=\"6535\">Loading BokehJS ...</span>\n",
       "    </div>"
      ]
     },
     "metadata": {},
     "output_type": "display_data"
    },
    {
     "data": {
      "application/javascript": "\n(function(root) {\n  function now() {\n    return new Date();\n  }\n\n  var force = true;\n\n  if (typeof root._bokeh_onload_callbacks === \"undefined\" || force === true) {\n    root._bokeh_onload_callbacks = [];\n    root._bokeh_is_loading = undefined;\n  }\n\n  var JS_MIME_TYPE = 'application/javascript';\n  var HTML_MIME_TYPE = 'text/html';\n  var EXEC_MIME_TYPE = 'application/vnd.bokehjs_exec.v0+json';\n  var CLASS_NAME = 'output_bokeh rendered_html';\n\n  /**\n   * Render data to the DOM node\n   */\n  function render(props, node) {\n    var script = document.createElement(\"script\");\n    node.appendChild(script);\n  }\n\n  /**\n   * Handle when an output is cleared or removed\n   */\n  function handleClearOutput(event, handle) {\n    var cell = handle.cell;\n\n    var id = cell.output_area._bokeh_element_id;\n    var server_id = cell.output_area._bokeh_server_id;\n    // Clean up Bokeh references\n    if (id != null && id in Bokeh.index) {\n      Bokeh.index[id].model.document.clear();\n      delete Bokeh.index[id];\n    }\n\n    if (server_id !== undefined) {\n      // Clean up Bokeh references\n      var cmd = \"from bokeh.io.state import curstate; print(curstate().uuid_to_server['\" + server_id + \"'].get_sessions()[0].document.roots[0]._id)\";\n      cell.notebook.kernel.execute(cmd, {\n        iopub: {\n          output: function(msg) {\n            var id = msg.content.text.trim();\n            if (id in Bokeh.index) {\n              Bokeh.index[id].model.document.clear();\n              delete Bokeh.index[id];\n            }\n          }\n        }\n      });\n      // Destroy server and session\n      var cmd = \"import bokeh.io.notebook as ion; ion.destroy_server('\" + server_id + \"')\";\n      cell.notebook.kernel.execute(cmd);\n    }\n  }\n\n  /**\n   * Handle when a new output is added\n   */\n  function handleAddOutput(event, handle) {\n    var output_area = handle.output_area;\n    var output = handle.output;\n\n    // limit handleAddOutput to display_data with EXEC_MIME_TYPE content only\n    if ((output.output_type != \"display_data\") || (!output.data.hasOwnProperty(EXEC_MIME_TYPE))) {\n      return\n    }\n\n    var toinsert = output_area.element.find(\".\" + CLASS_NAME.split(' ')[0]);\n\n    if (output.metadata[EXEC_MIME_TYPE][\"id\"] !== undefined) {\n      toinsert[toinsert.length - 1].firstChild.textContent = output.data[JS_MIME_TYPE];\n      // store reference to embed id on output_area\n      output_area._bokeh_element_id = output.metadata[EXEC_MIME_TYPE][\"id\"];\n    }\n    if (output.metadata[EXEC_MIME_TYPE][\"server_id\"] !== undefined) {\n      var bk_div = document.createElement(\"div\");\n      bk_div.innerHTML = output.data[HTML_MIME_TYPE];\n      var script_attrs = bk_div.children[0].attributes;\n      for (var i = 0; i < script_attrs.length; i++) {\n        toinsert[toinsert.length - 1].firstChild.setAttribute(script_attrs[i].name, script_attrs[i].value);\n      }\n      // store reference to server id on output_area\n      output_area._bokeh_server_id = output.metadata[EXEC_MIME_TYPE][\"server_id\"];\n    }\n  }\n\n  function register_renderer(events, OutputArea) {\n\n    function append_mime(data, metadata, element) {\n      // create a DOM node to render to\n      var toinsert = this.create_output_subarea(\n        metadata,\n        CLASS_NAME,\n        EXEC_MIME_TYPE\n      );\n      this.keyboard_manager.register_events(toinsert);\n      // Render to node\n      var props = {data: data, metadata: metadata[EXEC_MIME_TYPE]};\n      render(props, toinsert[toinsert.length - 1]);\n      element.append(toinsert);\n      return toinsert\n    }\n\n    /* Handle when an output is cleared or removed */\n    events.on('clear_output.CodeCell', handleClearOutput);\n    events.on('delete.Cell', handleClearOutput);\n\n    /* Handle when a new output is added */\n    events.on('output_added.OutputArea', handleAddOutput);\n\n    /**\n     * Register the mime type and append_mime function with output_area\n     */\n    OutputArea.prototype.register_mime_type(EXEC_MIME_TYPE, append_mime, {\n      /* Is output safe? */\n      safe: true,\n      /* Index of renderer in `output_area.display_order` */\n      index: 0\n    });\n  }\n\n  // register the mime type if in Jupyter Notebook environment and previously unregistered\n  if (root.Jupyter !== undefined) {\n    var events = require('base/js/events');\n    var OutputArea = require('notebook/js/outputarea').OutputArea;\n\n    if (OutputArea.prototype.mime_types().indexOf(EXEC_MIME_TYPE) == -1) {\n      register_renderer(events, OutputArea);\n    }\n  }\n\n  \n  if (typeof (root._bokeh_timeout) === \"undefined\" || force === true) {\n    root._bokeh_timeout = Date.now() + 5000;\n    root._bokeh_failed_load = false;\n  }\n\n  var NB_LOAD_WARNING = {'data': {'text/html':\n     \"<div style='background-color: #fdd'>\\n\"+\n     \"<p>\\n\"+\n     \"BokehJS does not appear to have successfully loaded. If loading BokehJS from CDN, this \\n\"+\n     \"may be due to a slow or bad network connection. Possible fixes:\\n\"+\n     \"</p>\\n\"+\n     \"<ul>\\n\"+\n     \"<li>re-rerun `output_notebook()` to attempt to load from CDN again, or</li>\\n\"+\n     \"<li>use INLINE resources instead, as so:</li>\\n\"+\n     \"</ul>\\n\"+\n     \"<code>\\n\"+\n     \"from bokeh.resources import INLINE\\n\"+\n     \"output_notebook(resources=INLINE)\\n\"+\n     \"</code>\\n\"+\n     \"</div>\"}};\n\n  function display_loaded() {\n    var el = document.getElementById(\"6535\");\n    if (el != null) {\n      el.textContent = \"BokehJS is loading...\";\n    }\n    if (root.Bokeh !== undefined) {\n      if (el != null) {\n        el.textContent = \"BokehJS \" + root.Bokeh.version + \" successfully loaded.\";\n      }\n    } else if (Date.now() < root._bokeh_timeout) {\n      setTimeout(display_loaded, 100)\n    }\n  }\n\n\n  function run_callbacks() {\n    try {\n      root._bokeh_onload_callbacks.forEach(function(callback) {\n        if (callback != null)\n          callback();\n      });\n    } finally {\n      delete root._bokeh_onload_callbacks\n    }\n    console.debug(\"Bokeh: all callbacks have finished\");\n  }\n\n  function load_libs(css_urls, js_urls, callback) {\n    if (css_urls == null) css_urls = [];\n    if (js_urls == null) js_urls = [];\n\n    root._bokeh_onload_callbacks.push(callback);\n    if (root._bokeh_is_loading > 0) {\n      console.debug(\"Bokeh: BokehJS is being loaded, scheduling callback at\", now());\n      return null;\n    }\n    if (js_urls == null || js_urls.length === 0) {\n      run_callbacks();\n      return null;\n    }\n    console.debug(\"Bokeh: BokehJS not loaded, scheduling load and callback at\", now());\n    root._bokeh_is_loading = css_urls.length + js_urls.length;\n\n    function on_load() {\n      root._bokeh_is_loading--;\n      if (root._bokeh_is_loading === 0) {\n        console.debug(\"Bokeh: all BokehJS libraries/stylesheets loaded\");\n        run_callbacks()\n      }\n    }\n\n    function on_error() {\n      console.error(\"failed to load \" + url);\n    }\n\n    for (var i = 0; i < css_urls.length; i++) {\n      var url = css_urls[i];\n      const element = document.createElement(\"link\");\n      element.onload = on_load;\n      element.onerror = on_error;\n      element.rel = \"stylesheet\";\n      element.type = \"text/css\";\n      element.href = url;\n      console.debug(\"Bokeh: injecting link tag for BokehJS stylesheet: \", url);\n      document.body.appendChild(element);\n    }\n\n    for (var i = 0; i < js_urls.length; i++) {\n      var url = js_urls[i];\n      var element = document.createElement('script');\n      element.onload = on_load;\n      element.onerror = on_error;\n      element.async = false;\n      element.src = url;\n      console.debug(\"Bokeh: injecting script tag for BokehJS library: \", url);\n      document.head.appendChild(element);\n    }\n  };var element = document.getElementById(\"6535\");\n  if (element == null) {\n    console.error(\"Bokeh: ERROR: autoload.js configured with elementid '6535' but no matching script tag was found. \")\n    return false;\n  }\n\n  function inject_raw_css(css) {\n    const element = document.createElement(\"style\");\n    element.appendChild(document.createTextNode(css));\n    document.body.appendChild(element);\n  }\n\n  \n  var js_urls = [\"https://cdn.pydata.org/bokeh/release/bokeh-1.4.0.min.js\", \"https://cdn.pydata.org/bokeh/release/bokeh-widgets-1.4.0.min.js\", \"https://cdn.pydata.org/bokeh/release/bokeh-tables-1.4.0.min.js\", \"https://cdn.pydata.org/bokeh/release/bokeh-gl-1.4.0.min.js\"];\n  var css_urls = [];\n  \n\n  var inline_js = [\n    function(Bokeh) {\n      Bokeh.set_log_level(\"info\");\n    },\n    function(Bokeh) {\n    \n    \n    }\n  ];\n\n  function run_inline_js() {\n    \n    if (root.Bokeh !== undefined || force === true) {\n      \n    for (var i = 0; i < inline_js.length; i++) {\n      inline_js[i].call(root, root.Bokeh);\n    }\n    if (force === true) {\n        display_loaded();\n      }} else if (Date.now() < root._bokeh_timeout) {\n      setTimeout(run_inline_js, 100);\n    } else if (!root._bokeh_failed_load) {\n      console.log(\"Bokeh: BokehJS failed to load within specified timeout.\");\n      root._bokeh_failed_load = true;\n    } else if (force !== true) {\n      var cell = $(document.getElementById(\"6535\")).parents('.cell').data().cell;\n      cell.output_area.append_execute_result(NB_LOAD_WARNING)\n    }\n\n  }\n\n  if (root._bokeh_is_loading === 0) {\n    console.debug(\"Bokeh: BokehJS loaded, going straight to plotting\");\n    run_inline_js();\n  } else {\n    load_libs(css_urls, js_urls, function() {\n      console.debug(\"Bokeh: BokehJS plotting callback run at\", now());\n      run_inline_js();\n    });\n  }\n}(window));",
      "application/vnd.bokehjs_load.v0+json": ""
     },
     "metadata": {},
     "output_type": "display_data"
    },
    {
     "data": {
      "text/html": [
       "\n",
       "\n",
       "\n",
       "\n",
       "\n",
       "\n",
       "  <div class=\"bk-root\" id=\"e22d7752-4b5f-495d-8865-8091074ea0fc\" data-root-id=\"6489\"></div>\n"
      ]
     },
     "metadata": {},
     "output_type": "display_data"
    },
    {
     "data": {
      "application/javascript": "(function(root) {\n  function embed_document(root) {\n    \n  var docs_json = {\"ec22268d-39d4-47d9-9f20-3ebdd362cf86\":{\"roots\":{\"references\":[{\"attributes\":{},\"id\":\"6494\",\"type\":\"LinearScale\"},{\"attributes\":{\"axis_label\":\"a/mps2\",\"formatter\":{\"id\":\"6528\",\"type\":\"BasicTickFormatter\"},\"ticker\":{\"id\":\"6504\",\"type\":\"BasicTicker\"}},\"id\":\"6503\",\"type\":\"LinearAxis\"},{\"attributes\":{\"ticker\":{\"id\":\"6499\",\"type\":\"BasicTicker\"}},\"id\":\"6502\",\"type\":\"Grid\"},{\"attributes\":{\"overlay\":{\"id\":\"6532\",\"type\":\"BoxAnnotation\"}},\"id\":\"6510\",\"type\":\"BoxZoomTool\"},{\"attributes\":{},\"id\":\"6513\",\"type\":\"HelpTool\"},{\"attributes\":{\"items\":[{\"id\":\"6534\",\"type\":\"LegendItem\"}]},\"id\":\"6533\",\"type\":\"Legend\"},{\"attributes\":{},\"id\":\"6775\",\"type\":\"UnionRenderers\"},{\"attributes\":{\"callback\":null},\"id\":\"6490\",\"type\":\"DataRange1d\"},{\"attributes\":{\"data_source\":{\"id\":\"6521\",\"type\":\"ColumnDataSource\"},\"glyph\":{\"id\":\"6522\",\"type\":\"Scatter\"},\"hover_glyph\":null,\"muted_glyph\":null,\"nonselection_glyph\":{\"id\":\"6523\",\"type\":\"Scatter\"},\"selection_glyph\":null,\"view\":{\"id\":\"6525\",\"type\":\"CDSView\"}},\"id\":\"6524\",\"type\":\"GlyphRenderer\"},{\"attributes\":{},\"id\":\"6496\",\"type\":\"LinearScale\"},{\"attributes\":{\"callback\":null,\"data\":{\"x\":[0.0,0.2,0.4,0.6000000000000001,0.8,1.0,1.2000000000000002,1.4000000000000001,1.6,1.8,2.0,2.2,2.4000000000000004,2.6,2.8000000000000003,3.0,3.2,3.4000000000000004,3.6,3.8000000000000003,4.0,4.2,4.4,4.6000000000000005,4.800000000000001,5.0,5.2,5.4,5.6000000000000005,5.800000000000001,6.0],\"y\":[0.0,-0.8,-1.6,-1.248491078386516,-0.8199077586618309,-0.4861456809704723,-0.22350410439541835,-0.014994773086307589,0.1518126032666281,0.2861643599713512,0.3950324264625074,0.4837345721563324,0.5563675161339496,0.6161152161543402,0.6654718149737839,0.7064050512970854,0.7404774430859176,0.7689370950381444,0.7927863866979865,0.8128343770148341,0.8297371024087727,0.8440287917661426,0.8561462091490629,0.8664477560488739,0.8752285482791033,0.8640583936276697,0.819698192821875,0.7768809312310356,0.7356346054796212,0.6959762938508371,0.657913022099669]},\"selected\":{\"id\":\"6776\",\"type\":\"Selection\"},\"selection_policy\":{\"id\":\"6775\",\"type\":\"UnionRenderers\"}},\"id\":\"6521\",\"type\":\"ColumnDataSource\"},{\"attributes\":{\"fill_alpha\":{\"value\":0.1},\"fill_color\":{\"value\":\"#1f77b4\"},\"line_alpha\":{\"value\":0.1},\"line_color\":{\"value\":\"#1f77b4\"},\"x\":{\"field\":\"x\"},\"y\":{\"field\":\"y\"}},\"id\":\"6523\",\"type\":\"Scatter\"},{\"attributes\":{},\"id\":\"6776\",\"type\":\"Selection\"},{\"attributes\":{\"active_drag\":\"auto\",\"active_inspect\":\"auto\",\"active_multi\":null,\"active_scroll\":\"auto\",\"active_tap\":\"auto\",\"tools\":[{\"id\":\"6508\",\"type\":\"PanTool\"},{\"id\":\"6509\",\"type\":\"WheelZoomTool\"},{\"id\":\"6510\",\"type\":\"BoxZoomTool\"},{\"id\":\"6511\",\"type\":\"SaveTool\"},{\"id\":\"6512\",\"type\":\"ResetTool\"},{\"id\":\"6513\",\"type\":\"HelpTool\"}]},\"id\":\"6514\",\"type\":\"Toolbar\"},{\"attributes\":{},\"id\":\"6508\",\"type\":\"PanTool\"},{\"attributes\":{},\"id\":\"6509\",\"type\":\"WheelZoomTool\"},{\"attributes\":{\"label\":{\"value\":\"idm_a_t\"},\"renderers\":[{\"id\":\"6524\",\"type\":\"GlyphRenderer\"}]},\"id\":\"6534\",\"type\":\"LegendItem\"},{\"attributes\":{\"bottom_units\":\"screen\",\"fill_alpha\":{\"value\":0.5},\"fill_color\":{\"value\":\"lightgrey\"},\"left_units\":\"screen\",\"level\":\"overlay\",\"line_alpha\":{\"value\":1.0},\"line_color\":{\"value\":\"black\"},\"line_dash\":[4,4],\"line_width\":{\"value\":2},\"render_mode\":\"css\",\"right_units\":\"screen\",\"top_units\":\"screen\"},\"id\":\"6532\",\"type\":\"BoxAnnotation\"},{\"attributes\":{},\"id\":\"6499\",\"type\":\"BasicTicker\"},{\"attributes\":{},\"id\":\"6512\",\"type\":\"ResetTool\"},{\"attributes\":{\"fill_color\":{\"value\":\"red\"},\"line_alpha\":{\"value\":0.4},\"line_color\":{\"value\":\"red\"},\"x\":{\"field\":\"x\"},\"y\":{\"field\":\"y\"}},\"id\":\"6522\",\"type\":\"Scatter\"},{\"attributes\":{\"text\":\"\"},\"id\":\"6526\",\"type\":\"Title\"},{\"attributes\":{\"callback\":null,\"end\":3.5,\"start\":-3.5},\"id\":\"6492\",\"type\":\"Range1d\"},{\"attributes\":{\"dimension\":1,\"ticker\":{\"id\":\"6504\",\"type\":\"BasicTicker\"}},\"id\":\"6507\",\"type\":\"Grid\"},{\"attributes\":{},\"id\":\"6530\",\"type\":\"BasicTickFormatter\"},{\"attributes\":{},\"id\":\"6511\",\"type\":\"SaveTool\"},{\"attributes\":{\"source\":{\"id\":\"6521\",\"type\":\"ColumnDataSource\"}},\"id\":\"6525\",\"type\":\"CDSView\"},{\"attributes\":{},\"id\":\"6504\",\"type\":\"BasicTicker\"},{\"attributes\":{},\"id\":\"6528\",\"type\":\"BasicTickFormatter\"},{\"attributes\":{\"below\":[{\"id\":\"6498\",\"type\":\"LinearAxis\"}],\"center\":[{\"id\":\"6502\",\"type\":\"Grid\"},{\"id\":\"6507\",\"type\":\"Grid\"},{\"id\":\"6533\",\"type\":\"Legend\"}],\"left\":[{\"id\":\"6503\",\"type\":\"LinearAxis\"}],\"plot_height\":200,\"plot_width\":400,\"renderers\":[{\"id\":\"6524\",\"type\":\"GlyphRenderer\"}],\"title\":{\"id\":\"6526\",\"type\":\"Title\"},\"toolbar\":{\"id\":\"6514\",\"type\":\"Toolbar\"},\"x_range\":{\"id\":\"6490\",\"type\":\"DataRange1d\"},\"x_scale\":{\"id\":\"6494\",\"type\":\"LinearScale\"},\"y_range\":{\"id\":\"6492\",\"type\":\"Range1d\"},\"y_scale\":{\"id\":\"6496\",\"type\":\"LinearScale\"}},\"id\":\"6489\",\"subtype\":\"Figure\",\"type\":\"Plot\"},{\"attributes\":{\"axis_label\":\"t/s\",\"formatter\":{\"id\":\"6530\",\"type\":\"BasicTickFormatter\"},\"ticker\":{\"id\":\"6499\",\"type\":\"BasicTicker\"}},\"id\":\"6498\",\"type\":\"LinearAxis\"}],\"root_ids\":[\"6489\"]},\"title\":\"Bokeh Application\",\"version\":\"1.4.0\"}};\n  var render_items = [{\"docid\":\"ec22268d-39d4-47d9-9f20-3ebdd362cf86\",\"roots\":{\"6489\":\"e22d7752-4b5f-495d-8865-8091074ea0fc\"}}];\n  root.Bokeh.embed.embed_items_notebook(docs_json, render_items);\n\n  }\n  if (root.Bokeh !== undefined) {\n    embed_document(root);\n  } else {\n    var attempts = 0;\n    var timer = setInterval(function(root) {\n      if (root.Bokeh !== undefined) {\n        clearInterval(timer);\n        embed_document(root);\n      } else {\n        attempts++;\n        if (attempts > 100) {\n          clearInterval(timer);\n          console.log(\"Bokeh: ERROR: Unable to run BokehJS code because BokehJS library is missing\");\n        }\n      }\n    }, 10, root)\n  }\n})(window);",
      "application/vnd.bokehjs_exec.v0+json": ""
     },
     "metadata": {
      "application/vnd.bokehjs_exec.v0+json": {
       "id": "6489"
      }
     },
     "output_type": "display_data"
    }
   ],
   "source": [
    "fig_idm_a_t = figure(width=400, height=200, y_range=[-3.5, 3.5])\n",
    "fig_idm_a_t.scatter(idm_output_t_list, idm_output_a_list, color='red',\n",
    "                        line_alpha=0.4, legend_label=\"idm_a_t\")\n",
    "fig_idm_a_t.xaxis.axis_label = \"t/s\"\n",
    "fig_idm_a_t.yaxis.axis_label = \"a/mps2\"\n",
    "output_notebook()\n",
    "show(fig_idm_a_t)\n"
   ]
  },
  {
   "cell_type": "code",
   "execution_count": null,
   "metadata": {},
   "outputs": [],
   "source": []
  },
  {
   "cell_type": "code",
   "execution_count": 63,
   "metadata": {},
   "outputs": [
    {
     "name": "stdout",
     "output_type": "stream",
     "text": [
      "[<pybind_idm.IDMOutput object at 0x7f26f7a5b030>, <pybind_idm.IDMOutput object at 0x7f26f7a5b110>, <pybind_idm.IDMOutput object at 0x7f26f7a5b0a0>, <pybind_idm.IDMOutput object at 0x7f26f7a5b0d8>, <pybind_idm.IDMOutput object at 0x7f26f7a5b148>, <pybind_idm.IDMOutput object at 0x7f26f7a5b1b8>, <pybind_idm.IDMOutput object at 0x7f26f7a5b180>, <pybind_idm.IDMOutput object at 0x7f26f7a5b1f0>, <pybind_idm.IDMOutput object at 0x7f26f7a5b260>, <pybind_idm.IDMOutput object at 0x7f26f7a5b228>, <pybind_idm.IDMOutput object at 0x7f26f7a5b298>, <pybind_idm.IDMOutput object at 0x7f26f7a5b308>, <pybind_idm.IDMOutput object at 0x7f26f7a5b2d0>, <pybind_idm.IDMOutput object at 0x7f26f7a5b340>, <pybind_idm.IDMOutput object at 0x7f26f7a5b378>, <pybind_idm.IDMOutput object at 0x7f26f7a5b3e8>, <pybind_idm.IDMOutput object at 0x7f26f7a5ba40>, <pybind_idm.IDMOutput object at 0x7f26f7a5b3b0>, <pybind_idm.IDMOutput object at 0x7f26f7a5bc70>, <pybind_idm.IDMOutput object at 0x7f26f7a5b570>, <pybind_idm.IDMOutput object at 0x7f26f7a5b5a8>, <pybind_idm.IDMOutput object at 0x7f26f7a5b420>, <pybind_idm.IDMOutput object at 0x7f26f7a5b4c8>, <pybind_idm.IDMOutput object at 0x7f26f7a5b500>, <pybind_idm.IDMOutput object at 0x7f26f7a5b538>, <pybind_idm.IDMOutput object at 0x7f26f7a5b458>, <pybind_idm.IDMOutput object at 0x7f26f7a5b490>, <pybind_idm.IDMOutput object at 0x7f26f7a5bab0>, <pybind_idm.IDMOutput object at 0x7f273018f570>, <pybind_idm.IDMOutput object at 0x7f273018f538>, <pybind_idm.IDMOutput object at 0x7f26f7a801f0>]\n",
      "t: 0.0\n",
      "s_ref_out: -1.71109\n",
      "v_ref_out: 14.7982\n",
      "a_ref_out: 0.0606892\n",
      "t: 0.2\n",
      "s_ref_out: 1.250714230033176\n",
      "v_ref_out: 14.819842300331757\n",
      "a_ref_out: 0.10821150165878535\n",
      "t: 0.4\n",
      "s_ref_out: 4.216512620671155\n",
      "v_ref_out: 14.83814160604803\n",
      "a_ref_out: 0.09149652858136265\n",
      "t: 0.6000000000000001\n",
      "s_ref_out: 7.185639383917307\n",
      "v_ref_out: 14.853126026413491\n",
      "a_ref_out: 0.07492210182730802\n",
      "t: 0.8\n",
      "s_ref_out: 10.157431769598745\n",
      "v_ref_out: 14.864797830400876\n",
      "a_ref_out: 0.05835901993692716\n",
      "t: 1.0\n",
      "s_ref_out: 13.131275643925022\n",
      "v_ref_out: 14.873640912861893\n",
      "a_ref_out: 0.044215412305079194\n",
      "t: 1.2000000000000002\n",
      "s_ref_out: 16.106850908695186\n",
      "v_ref_out: 14.882111734839745\n",
      "a_ref_out: 0.04235410988926325\n",
      "t: 1.4000000000000001\n",
      "s_ref_out: 19.084087350866756\n",
      "v_ref_out: 14.890252686875943\n",
      "a_ref_out: 0.040704760180992894\n",
      "t: 1.6\n",
      "s_ref_out: 22.062896697655138\n",
      "v_ref_out: 14.897840781007854\n",
      "a_ref_out: 0.03794047065955264\n",
      "t: 1.8\n",
      "s_ref_out: 25.043149452920876\n",
      "v_ref_out: 14.904686771649535\n",
      "a_ref_out: 0.03422995320840727\n",
      "t: 2.0\n",
      "s_ref_out: 28.024708199202365\n",
      "v_ref_out: 14.910900691165349\n",
      "a_ref_out: 0.031069597579063135\n",
      "t: 2.2\n",
      "s_ref_out: 31.00742213675653\n",
      "v_ref_out: 14.916238684376316\n",
      "a_ref_out: 0.026689966054837533\n",
      "t: 2.4000000000000004\n",
      "s_ref_out: 33.99112742052718\n",
      "v_ref_out: 14.920814153330177\n",
      "a_ref_out: 0.022877344769310082\n",
      "t: 2.6\n",
      "s_ref_out: 36.97568260854885\n",
      "v_ref_out: 14.924737726886585\n",
      "a_ref_out: 0.019617867782037446\n",
      "t: 2.8000000000000003\n",
      "s_ref_out: 39.96096534893243\n",
      "v_ref_out: 14.928089676949233\n",
      "a_ref_out: 0.016759750313236343\n",
      "t: 3.0\n",
      "s_ref_out: 42.94687098229011\n",
      "v_ref_out: 14.930966656627504\n",
      "a_ref_out: 0.01438489839136109\n",
      "t: 3.2\n",
      "s_ref_out: 45.93331137341449\n",
      "v_ref_out: 14.933437254616308\n",
      "a_ref_out: 0.01235298994401779\n",
      "t: 3.4000000000000004\n",
      "s_ref_out: 48.920211083916\n",
      "v_ref_out: 14.935559850398834\n",
      "a_ref_out: 0.010612978912623583\n",
      "t: 3.6\n",
      "s_ref_out: 51.90750550055843\n",
      "v_ref_out: 14.937384316025426\n",
      "a_ref_out: 0.009122328132959434\n",
      "t: 3.8000000000000003\n",
      "s_ref_out: 54.89513925672114\n",
      "v_ref_out: 14.938953245601622\n",
      "a_ref_out: 0.007844647880981825\n",
      "t: 4.0\n",
      "s_ref_out: 57.883064887138424\n",
      "v_ref_out: 14.940303058571258\n",
      "a_ref_out: 0.0067490648481777216\n",
      "t: 4.2\n",
      "s_ref_out: 60.87124168343529\n",
      "v_ref_out: 14.941464904397348\n",
      "a_ref_out: 0.005809229130451787\n",
      "t: 4.4\n",
      "s_ref_out: 63.85963471581867\n",
      "v_ref_out: 14.9424654194365\n",
      "a_ref_out: 0.0050025751957602504\n",
      "t: 4.6000000000000005\n",
      "s_ref_out: 66.8482139991274\n",
      "v_ref_out: 14.943327413650707\n",
      "a_ref_out: 0.004309971071029539\n",
      "t: 4.800000000000001\n",
      "s_ref_out: 69.8369537818384\n",
      "v_ref_out: 14.94407041345932\n",
      "a_ref_out: 0.003714999043070988\n",
      "t: 5.0\n",
      "s_ref_out: 72.82583193654854\n",
      "v_ref_out: 14.944711133642\n",
      "a_ref_out: 0.0032036009134045473\n",
      "t: 5.2\n",
      "s_ref_out: 75.81482943684327\n",
      "v_ref_out: 14.945263869305268\n",
      "a_ref_out: 0.0027636783163431655\n",
      "t: 5.4\n",
      "s_ref_out: 78.80392991844705\n",
      "v_ref_out: 14.945740946732514\n",
      "a_ref_out: 0.002385387136225048\n",
      "t: 5.6000000000000005\n",
      "s_ref_out: 81.79311930061216\n",
      "v_ref_out: 14.946152874918548\n",
      "a_ref_out: 0.002059640930170692\n",
      "t: 5.800000000000001\n",
      "s_ref_out: 84.7823854617752\n",
      "v_ref_out: 14.946508736711904\n",
      "a_ref_out: 0.0017793089667825224\n",
      "t: 6.0\n",
      "s_ref_out: 87.78312274392516\n",
      "v_ref_out: 15.060864084787616\n",
      "a_ref_out: 0.5717767403785621\n"
     ]
    }
   ],
   "source": [
    "idm_output = []\n",
    "ego_info = pybind_idm.EgoInfo(-1.71109, 14.7982, 0.0606892) # ego_s, ego_v, ego_a\n",
    "# leadercarlength;  s_leader; s_ref_follow; v_leader; v_ref_follow; a_ref_follow; exist_leader;\n",
    "SpeedPlannerProfile_0 = pybind_idm.SpeedPlannerProfile(17.3299, 21.6249 , 15.1468, 1)\n",
    "SpeedPlannerProfile_1 = pybind_idm.SpeedPlannerProfile(17.3299, 24.6555 , 15.1457,  1)\n",
    "SpeedPlannerProfile_2 = pybind_idm.SpeedPlannerProfile(17.3299, 27.6862 , 15.1446,  1)\n",
    "SpeedPlannerProfile_3 = pybind_idm.SpeedPlannerProfile(17.3299, 30.7096 , 15.1402,  1)\n",
    "SpeedPlannerProfile_4 = pybind_idm.SpeedPlannerProfile(17.3299, 33.7257 , 15.1324,  1)\n",
    "SpeedPlannerProfile_5 = pybind_idm.SpeedPlannerProfile(17.3299, 36.7417 , 15.1246,  1)\n",
    "SpeedPlannerProfile_6 = pybind_idm.SpeedPlannerProfile(17.3299, 39.777 ,15.131,  1)\n",
    "SpeedPlannerProfile_7 = pybind_idm.SpeedPlannerProfile(17.3299, 42.8122 , 15.1373,  1)\n",
    "SpeedPlannerProfile_8 = pybind_idm.SpeedPlannerProfile(17.3299, 45.8485 , 15.1417,  1)\n",
    "SpeedPlannerProfile_9 = pybind_idm.SpeedPlannerProfile(17.3299, 48.8857 , 15.1442, 1)\n",
    "SpeedPlannerProfile_10 = pybind_idm.SpeedPlannerProfile(17.3299, 51.923 , 15.1467, 1)\n",
    "SpeedPlannerProfile_11 = pybind_idm.SpeedPlannerProfile(17.3299, 54.952 , 15.1468,  1)\n",
    "SpeedPlannerProfile_12 = pybind_idm.SpeedPlannerProfile(17.3299, 57.981 , 15.1468, 1)\n",
    "SpeedPlannerProfile_13 = pybind_idm.SpeedPlannerProfile(17.3299, 61.0104 , 15.1468, 1)\n",
    "SpeedPlannerProfile_14 = pybind_idm.SpeedPlannerProfile(17.3299, 64.0402 , 15.1467,  1)\n",
    "SpeedPlannerProfile_15 = pybind_idm.SpeedPlannerProfile(17.3299, 67.0701 , 15.1467,  1)\n",
    "SpeedPlannerProfile_16 = pybind_idm.SpeedPlannerProfile(17.3299, 70.0994 , 15.1467,  1)\n",
    "SpeedPlannerProfile_17 = pybind_idm.SpeedPlannerProfile(17.3299, 73.1288 , 15.1467,  1)\n",
    "SpeedPlannerProfile_18 = pybind_idm.SpeedPlannerProfile(17.3299, 76.1582 , 15.1467, 1)\n",
    "SpeedPlannerProfile_19 = pybind_idm.SpeedPlannerProfile(17.3299, 79.1877 , 15.1467,  1)\n",
    "SpeedPlannerProfile_20 = pybind_idm.SpeedPlannerProfile(17.3299, 82.2172 , 15.1467,  1)\n",
    "SpeedPlannerProfile_21 = pybind_idm.SpeedPlannerProfile(17.3299, 85.2466 , 15.1467,  1)\n",
    "SpeedPlannerProfile_22 = pybind_idm.SpeedPlannerProfile(17.3299, 88.276 , 15.1467, 1)\n",
    "SpeedPlannerProfile_23 = pybind_idm.SpeedPlannerProfile(17.3299, 91.3052 , 15.1467,  1)\n",
    "SpeedPlannerProfile_24 = pybind_idm.SpeedPlannerProfile(17.3299, 94.3342 , 15.1467,  1)\n",
    "SpeedPlannerProfile_25 = pybind_idm.SpeedPlannerProfile(17.3299, 97.3632 , 15.1467,  1)\n",
    "SpeedPlannerProfile_26 = pybind_idm.SpeedPlannerProfile(17.3299, 100.393 , 15.1467,  1)\n",
    "SpeedPlannerProfile_27 = pybind_idm.SpeedPlannerProfile(17.3299, 103.422 , 15.1467,  1)\n",
    "SpeedPlannerProfile_28 = pybind_idm.SpeedPlannerProfile(17.3299, 106.452 , 15.1467,  1)\n",
    "SpeedPlannerProfile_29 = pybind_idm.SpeedPlannerProfile(17.3299, 109.481 , 15.1467, 1)\n",
    "SpeedPlannerProfile_30 = pybind_idm.SpeedPlannerProfile(5, 500 , 1.79769e+308, 0)\n",
    "\n",
    "leader_info = [SpeedPlannerProfile_0,\n",
    "               SpeedPlannerProfile_1,\n",
    "               SpeedPlannerProfile_2,\n",
    "               SpeedPlannerProfile_3,\n",
    "               SpeedPlannerProfile_4,\n",
    "               SpeedPlannerProfile_5,\n",
    "               SpeedPlannerProfile_6,\n",
    "               SpeedPlannerProfile_7,\n",
    "               SpeedPlannerProfile_8,\n",
    "               SpeedPlannerProfile_9,\n",
    "               SpeedPlannerProfile_10,\n",
    "               SpeedPlannerProfile_11,\n",
    "               SpeedPlannerProfile_12,\n",
    "               SpeedPlannerProfile_13,\n",
    "               SpeedPlannerProfile_14,\n",
    "               SpeedPlannerProfile_15,\n",
    "               SpeedPlannerProfile_16,\n",
    "               SpeedPlannerProfile_17,\n",
    "               SpeedPlannerProfile_18,\n",
    "               SpeedPlannerProfile_19,\n",
    "               SpeedPlannerProfile_20,\n",
    "               SpeedPlannerProfile_21,\n",
    "               SpeedPlannerProfile_22,\n",
    "               SpeedPlannerProfile_23,\n",
    "               SpeedPlannerProfile_24,\n",
    "               SpeedPlannerProfile_25,\n",
    "               SpeedPlannerProfile_26,\n",
    "               SpeedPlannerProfile_27,\n",
    "               SpeedPlannerProfile_28,\n",
    "               SpeedPlannerProfile_29,\n",
    "               SpeedPlannerProfile_30]\n",
    "\n",
    "idm_params = pybind_idm.IDMParam(\n",
    "    0.2, #delta_t\n",
    "    4.0, # idm_cosnt_jerk\n",
    "    3.0, # delta\n",
    "    2.0, # acc_delta\n",
    "    3.5, # desired_deceleration\n",
    "    2.5, # max_acc\n",
    "    1.0, # time_headway\n",
    "    1.5, # follow_car_delta\n",
    "    0.0, # min_spacing\n",
    "    3.5, # min_deceleration\n",
    "    [9.49, 18.98, 28.48], # v_std\n",
    "    [0.88, 1.7, 2.7],     # vel_error_std\n",
    "    [0.0, 2.78, 11.11, 22.22, 90.0], # idm_delta_v\n",
    "    [3.0, 4.0, 5.0, 6.0, 8.0],     # idm_min_spacing_list\n",
    "    0.0,  # desired_spd\n",
    "    0.0)  # change_rate \n",
    "\n",
    "v_refs = [22.22] * 31  # 生成包含 31 个 22.22 的列表\n",
    "\n",
    "idm_output = pybind_idm.get_idm_output(ego_info, leader_info, idm_params, v_refs)\n",
    "\n",
    "print(idm_output)\n",
    "\n",
    "for idm_output_object in idm_output:\n",
    "    print(\"t:\", idm_output_object.t)\n",
    "    print(\"s_ref_out:\", idm_output_object.s_ref_out)\n",
    "    print(\"v_ref_out:\", idm_output_object.v_ref_out)\n",
    "    print(\"a_ref_out:\", idm_output_object.a_ref_out)\n",
    "\n",
    "\n"
   ]
  },
  {
   "cell_type": "code",
   "execution_count": 64,
   "metadata": {},
   "outputs": [
    {
     "name": "stdout",
     "output_type": "stream",
     "text": [
      "****************************** IDMCaseManager start read case ******************************\n",
      "get case_1\n",
      "no such case case_1\n",
      "None\n"
     ]
    }
   ],
   "source": [
    "case_path = './idm_case_file'\n",
    "case_manager = IDMCaseManager(case_path)\n",
    "\n",
    "print(\"get case_1\")\n",
    "case_1 = case_manager.get_case(\"case_1\")\n",
    "\n",
    "print(case_1)"
   ]
  },
  {
   "cell_type": "code",
   "execution_count": 65,
   "metadata": {},
   "outputs": [
    {
     "name": "stdout",
     "output_type": "stream",
     "text": [
      "****************************** IDMCaseManager start read case ******************************\n"
     ]
    },
    {
     "ename": "FileNotFoundError",
     "evalue": "[Errno 2] No such file or directory: '/home/sensetime/ws/common_math/algorithm/idm/./json_read_test'",
     "output_type": "error",
     "traceback": [
      "\u001b[0;31m---------------------------------------------------------------------------\u001b[0m",
      "\u001b[0;31mFileNotFoundError\u001b[0m                         Traceback (most recent call last)",
      "\u001b[0;32m<ipython-input-65-b1c9b0ea8ef8>\u001b[0m in \u001b[0;36m<module>\u001b[0;34m\u001b[0m\n\u001b[1;32m      1\u001b[0m \u001b[0mcase_path\u001b[0m \u001b[0;34m=\u001b[0m \u001b[0;34m'./json_read_test'\u001b[0m\u001b[0;34m\u001b[0m\u001b[0m\n\u001b[0;32m----> 2\u001b[0;31m \u001b[0mcase_manager\u001b[0m \u001b[0;34m=\u001b[0m \u001b[0mIDMCaseManager\u001b[0m\u001b[0;34m(\u001b[0m\u001b[0mcase_path\u001b[0m\u001b[0;34m)\u001b[0m\u001b[0;34m\u001b[0m\u001b[0m\n\u001b[0m\u001b[1;32m      3\u001b[0m \u001b[0;34m\u001b[0m\u001b[0m\n\u001b[1;32m      4\u001b[0m \u001b[0mprint\u001b[0m\u001b[0;34m(\u001b[0m\u001b[0;34m\"get case_1\"\u001b[0m\u001b[0;34m)\u001b[0m\u001b[0;34m\u001b[0m\u001b[0m\n\u001b[1;32m      5\u001b[0m \u001b[0mcase_1\u001b[0m \u001b[0;34m=\u001b[0m \u001b[0mcase_manager\u001b[0m\u001b[0;34m.\u001b[0m\u001b[0mget_case\u001b[0m\u001b[0;34m(\u001b[0m\u001b[0;34m\"case_1\"\u001b[0m\u001b[0;34m)\u001b[0m\u001b[0;34m\u001b[0m\u001b[0m\n",
      "\u001b[0;32m~/ws/common_math/algorithm/idm/idm_case_manager.py\u001b[0m in \u001b[0;36m__init__\u001b[0;34m(self, case_path)\u001b[0m\n\u001b[1;32m      7\u001b[0m         \u001b[0mself\u001b[0m\u001b[0;34m.\u001b[0m\u001b[0mcase_path_\u001b[0m \u001b[0;34m=\u001b[0m \u001b[0mcase_path\u001b[0m\u001b[0;34m\u001b[0m\u001b[0m\n\u001b[1;32m      8\u001b[0m         \u001b[0mself\u001b[0m\u001b[0;34m.\u001b[0m\u001b[0mcase_set_\u001b[0m \u001b[0;34m=\u001b[0m \u001b[0mdict\u001b[0m\u001b[0;34m(\u001b[0m\u001b[0;34m)\u001b[0m\u001b[0;34m\u001b[0m\u001b[0m\n\u001b[0;32m----> 9\u001b[0;31m         \u001b[0mself\u001b[0m\u001b[0;34m.\u001b[0m\u001b[0m__read_case__\u001b[0m\u001b[0;34m(\u001b[0m\u001b[0;34m)\u001b[0m\u001b[0;34m\u001b[0m\u001b[0m\n\u001b[0m\u001b[1;32m     10\u001b[0m \u001b[0;34m\u001b[0m\u001b[0m\n\u001b[1;32m     11\u001b[0m     \u001b[0;32mdef\u001b[0m \u001b[0m__read_case__\u001b[0m\u001b[0;34m(\u001b[0m\u001b[0mself\u001b[0m\u001b[0;34m)\u001b[0m\u001b[0;34m:\u001b[0m\u001b[0;34m\u001b[0m\u001b[0m\n",
      "\u001b[0;32m~/ws/common_math/algorithm/idm/idm_case_manager.py\u001b[0m in \u001b[0;36m__read_case__\u001b[0;34m(self)\u001b[0m\n\u001b[1;32m     13\u001b[0m         \u001b[0;31m# 遍历路径下的所有文件\u001b[0m\u001b[0;34m\u001b[0m\u001b[0;34m\u001b[0m\u001b[0m\n\u001b[1;32m     14\u001b[0m         \u001b[0mpath\u001b[0m \u001b[0;34m=\u001b[0m \u001b[0;34m'/home/sensetime/ws/common_math/algorithm/idm/'\u001b[0m\u001b[0;34m+\u001b[0m\u001b[0mself\u001b[0m\u001b[0;34m.\u001b[0m\u001b[0mcase_path_\u001b[0m\u001b[0;34m\u001b[0m\u001b[0m\n\u001b[0;32m---> 15\u001b[0;31m         \u001b[0;32mfor\u001b[0m \u001b[0mfilename\u001b[0m \u001b[0;32min\u001b[0m \u001b[0mos\u001b[0m\u001b[0;34m.\u001b[0m\u001b[0mlistdir\u001b[0m\u001b[0;34m(\u001b[0m\u001b[0mpath\u001b[0m\u001b[0;34m)\u001b[0m\u001b[0;34m:\u001b[0m\u001b[0;34m\u001b[0m\u001b[0m\n\u001b[0m\u001b[1;32m     16\u001b[0m             \u001b[0;32mif\u001b[0m \u001b[0mfilename\u001b[0m\u001b[0;34m.\u001b[0m\u001b[0mendswith\u001b[0m\u001b[0;34m(\u001b[0m\u001b[0;34m'.json'\u001b[0m\u001b[0;34m)\u001b[0m\u001b[0;34m:\u001b[0m  \u001b[0;31m# 确保文件是以 .json 结尾的 JSON 文件\u001b[0m\u001b[0;34m\u001b[0m\u001b[0m\n\u001b[1;32m     17\u001b[0m                 \u001b[0mfile_path\u001b[0m \u001b[0;34m=\u001b[0m \u001b[0mos\u001b[0m\u001b[0;34m.\u001b[0m\u001b[0mpath\u001b[0m\u001b[0;34m.\u001b[0m\u001b[0mjoin\u001b[0m\u001b[0;34m(\u001b[0m\u001b[0mpath\u001b[0m\u001b[0;34m,\u001b[0m \u001b[0mfilename\u001b[0m\u001b[0;34m)\u001b[0m\u001b[0;34m\u001b[0m\u001b[0m\n",
      "\u001b[0;31mFileNotFoundError\u001b[0m: [Errno 2] No such file or directory: '/home/sensetime/ws/common_math/algorithm/idm/./json_read_test'"
     ]
    }
   ],
   "source": [
    "case_path = './json_read_test'\n",
    "case_manager = IDMCaseManager(case_path)\n",
    "\n",
    "print(\"get case_1\")\n",
    "case_1 = case_manager.get_case(\"case_1\")\n",
    "\n",
    "print(case_1)"
   ]
  },
  {
   "cell_type": "code",
   "execution_count": null,
   "metadata": {},
   "outputs": [
    {
     "ename": "NameError",
     "evalue": "name 'case_1' is not defined",
     "output_type": "error",
     "traceback": [
      "\u001b[0;31m---------------------------------------------------------------------------\u001b[0m",
      "\u001b[0;31mNameError\u001b[0m                                 Traceback (most recent call last)",
      "\u001b[0;32m<ipython-input-5-5198f974e40d>\u001b[0m in \u001b[0;36m<module>\u001b[0;34m\u001b[0m\n\u001b[1;32m      1\u001b[0m \u001b[0mcase_ploter\u001b[0m \u001b[0;34m=\u001b[0m \u001b[0mIDMCasePloter\u001b[0m\u001b[0;34m(\u001b[0m\u001b[0;34m)\u001b[0m\u001b[0;34m\u001b[0m\u001b[0m\n\u001b[1;32m      2\u001b[0m \u001b[0;34m\u001b[0m\u001b[0m\n\u001b[0;32m----> 3\u001b[0;31m \u001b[0mcase_1_layout\u001b[0m \u001b[0;34m=\u001b[0m \u001b[0mcase_ploter\u001b[0m\u001b[0;34m.\u001b[0m\u001b[0mplot_idm_case\u001b[0m\u001b[0;34m(\u001b[0m\u001b[0mcase_1\u001b[0m\u001b[0;34m)\u001b[0m\u001b[0;34m\u001b[0m\u001b[0m\n\u001b[0m\u001b[1;32m      4\u001b[0m \u001b[0moutput_notebook\u001b[0m\u001b[0;34m(\u001b[0m\u001b[0;34m)\u001b[0m\u001b[0;34m\u001b[0m\u001b[0m\n\u001b[1;32m      5\u001b[0m \u001b[0mshow\u001b[0m\u001b[0;34m(\u001b[0m\u001b[0mcase_1_layout\u001b[0m\u001b[0;34m)\u001b[0m\u001b[0;34m\u001b[0m\u001b[0m\n",
      "\u001b[0;31mNameError\u001b[0m: name 'case_1' is not defined"
     ]
    }
   ],
   "source": [
    "case_ploter = IDMCasePloter()\n",
    "\n",
    "case_1_layout = case_ploter.plot_idm_case(case_1)\n",
    "output_notebook()\n",
    "show(case_1_layout)"
   ]
  }
 ],
 "metadata": {
  "kernelspec": {
   "display_name": "Python 3 (ipykernel)",
   "language": "python",
   "name": "python3"
  },
  "language_info": {
   "codemirror_mode": {
    "name": "ipython",
    "version": 3
   },
   "file_extension": ".py",
   "mimetype": "text/x-python",
   "name": "python",
   "nbconvert_exporter": "python",
   "pygments_lexer": "ipython3",
   "version": "3.5.2"
  }
 },
 "nbformat": 4,
 "nbformat_minor": 2
}
